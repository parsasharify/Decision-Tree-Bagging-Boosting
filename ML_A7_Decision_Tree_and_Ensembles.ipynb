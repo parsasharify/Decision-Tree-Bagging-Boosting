{
  "metadata": {
    "kernelspec": {
      "language": "python",
      "display_name": "Python 3",
      "name": "python3"
    },
    "language_info": {
      "name": "python",
      "version": "3.10.10",
      "mimetype": "text/x-python",
      "codemirror_mode": {
        "name": "ipython",
        "version": 3
      },
      "pygments_lexer": "ipython3",
      "nbconvert_exporter": "python",
      "file_extension": ".py"
    },
    "colab": {
      "provenance": []
    }
  },
  "nbformat_minor": 0,
  "nbformat": 4,
  "cells": [
    {
      "cell_type": "markdown",
      "metadata": {
        "id": "b07eb33c"
      },
      "source": [
        "<div>\n",
        "<img src='https://upload.wikimedia.org/wikipedia/commons/6/64/Sharif_University_Logo.jpg' alt=\"SUT logo\" width=220 height=220 align=left class=\"saturate\">\n",
        "\n",
        "<br>\n",
        "<font face=\"Times New Roman\">\n",
        "<div dir=ltr align=center> \n",
        "<!-- <font color=0F5298 size=7> -->\n",
        "<font color=0F5298 size=6>\n",
        "    Introduction to Machine Learning <br> <br>\n",
        "<!-- <font color=2565AE size=5> -->\n",
        "<font size=5>\n",
        "    Computer Engineering Department <br>\n",
        "    Spring 2023 <br> <br>\n",
        "<font color=606060 size=5>\n",
        "    Homework 7: Practical - Decision Tree and Ensembles <br> <br>\n",
        "<font color=686880 size=4>\n",
        "    TAs: Amirhossein Ramazani Bonab - Arman Malekzadeh\n",
        "    \n",
        "____"
      ]
    },
    {
      "cell_type": "markdown",
      "metadata": {
        "id": "f5a79508"
      },
      "source": [
        "### Full Name : Parsa Sharifi\n",
        "### Student Number : 99101762\n",
        "### Colab Link:\n",
        "___"
      ]
    },
    {
      "cell_type": "markdown",
      "source": [
        "**About the Dataset:**\n",
        "\n",
        "\n",
        "Measurements of geometrical properties of kernels belonging to three different varieties of wheat.\n",
        "\n",
        "A soft X-ray technique and GRAINS package were used to construct all seven, real-valued attributes.\n",
        "\n",
        "**Data Set Information:**\n",
        "\n",
        "\n",
        "The examined group comprised kernels belonging to three different varieties of wheat: Kama, Rosa and Canadian, 70 elements each, randomly selected for\n",
        "the experiment. High quality visualization of the internal kernel structure was detected using a soft X-ray technique. It is non-destructive and considerably cheaper than other more sophisticated imaging techniques like scanning microscopy or laser technology. The images were recorded on 13x18 cm X-ray KODAK plates. Studies were conducted using combine harvested wheat grain originating from experimental fields, explored at the Institute of Agrophysics of the Polish Academy of Sciences in Lublin.\n",
        "\n",
        "To construct the data, seven geometric parameters of wheat kernels were measured:\n",
        "\n",
        "- area A,\n",
        "- perimeter P,\n",
        "- compactness C = 4piA/P^2,\n",
        "- length of kernel,\n",
        "- width of kernel,\n",
        "- asymmetry coefficient\n",
        "- length of kernel groove.\n",
        "\n",
        "The target column is \"Type\".\n",
        "\n",
        "The data set can be used for the tasks of classification and cluster analysis.\n",
        "\n",
        "https://archive.ics.uci.edu/ml/datasets/seeds"
      ],
      "metadata": {
        "id": "8R9A8RKJa07c"
      }
    },
    {
      "cell_type": "code",
      "source": [
        "# you can use the following packages\n",
        "\n",
        "import pandas as pd\n",
        "import numpy as np\n",
        "\n",
        "import matplotlib.pyplot as plt\n",
        "%matplotlib inline\n",
        "import seaborn as sns\n",
        "\n",
        "from sklearn.model_selection import train_test_split\n",
        "\n",
        "from random import choices\n",
        "import math\n",
        "from sklearn.metrics import accuracy_score\n"
      ],
      "metadata": {
        "execution": {
          "iopub.status.busy": "2023-05-24T07:40:35.643418Z",
          "iopub.execute_input": "2023-05-24T07:40:35.643859Z",
          "iopub.status.idle": "2023-05-24T07:40:35.652079Z",
          "shell.execute_reply.started": "2023-05-24T07:40:35.643823Z",
          "shell.execute_reply": "2023-05-24T07:40:35.650632Z"
        },
        "trusted": true,
        "id": "_s9VlwRcUmDE"
      },
      "execution_count": 19,
      "outputs": []
    },
    {
      "cell_type": "markdown",
      "source": [
        "## P1: Explore the Dataset"
      ],
      "metadata": {
        "id": "pXav8LQyUmDG"
      }
    },
    {
      "cell_type": "code",
      "source": [
        "!wget -O dataset.csv https://www.dropbox.com/s/xc1tbfju2mn59yj/seeds%20%281%29.csv?dl=1"
      ],
      "metadata": {
        "id": "Qp8d_3l88cOp",
        "colab": {
          "base_uri": "https://localhost:8080/"
        },
        "outputId": "fcade8ad-08da-4d4b-fa89-416873b81677"
      },
      "execution_count": 2,
      "outputs": [
        {
          "output_type": "stream",
          "name": "stdout",
          "text": [
            "--2023-06-05 21:27:09--  https://www.dropbox.com/s/xc1tbfju2mn59yj/seeds%20%281%29.csv?dl=1\n",
            "Resolving www.dropbox.com (www.dropbox.com)... 162.125.5.18, 2620:100:601d:18::a27d:512\n",
            "Connecting to www.dropbox.com (www.dropbox.com)|162.125.5.18|:443... connected.\n",
            "HTTP request sent, awaiting response... 302 Found\n",
            "Location: /s/dl/xc1tbfju2mn59yj/seeds%20%281%29.csv [following]\n",
            "--2023-06-05 21:27:09--  https://www.dropbox.com/s/dl/xc1tbfju2mn59yj/seeds%20%281%29.csv\n",
            "Reusing existing connection to www.dropbox.com:443.\n",
            "HTTP request sent, awaiting response... 302 Found\n",
            "Location: https://uc93a5945348e0824f1b355f2322.dl.dropboxusercontent.com/cd/0/get/B9YLlmmefKC7TSx87bFV7KYgzFPXsG0aRBrd5nyvE9U_RqWjfSLXqDNp27g_6Nc_MuY4WntDGymP-GTcM6Ip-DbCU4uqnruzxHQqdXjP-_VOmuycCKzK1qKaHVlgAaz58T2RdBQbF0EpbF9Ic2gesOHAVG78dkUspZJIkI84tvt3O_Vf84lDdhnyH7dV3ZyOo-A/file?dl=1# [following]\n",
            "--2023-06-05 21:27:10--  https://uc93a5945348e0824f1b355f2322.dl.dropboxusercontent.com/cd/0/get/B9YLlmmefKC7TSx87bFV7KYgzFPXsG0aRBrd5nyvE9U_RqWjfSLXqDNp27g_6Nc_MuY4WntDGymP-GTcM6Ip-DbCU4uqnruzxHQqdXjP-_VOmuycCKzK1qKaHVlgAaz58T2RdBQbF0EpbF9Ic2gesOHAVG78dkUspZJIkI84tvt3O_Vf84lDdhnyH7dV3ZyOo-A/file?dl=1\n",
            "Resolving uc93a5945348e0824f1b355f2322.dl.dropboxusercontent.com (uc93a5945348e0824f1b355f2322.dl.dropboxusercontent.com)... 162.125.2.15, 2620:100:601d:15::a27d:50f\n",
            "Connecting to uc93a5945348e0824f1b355f2322.dl.dropboxusercontent.com (uc93a5945348e0824f1b355f2322.dl.dropboxusercontent.com)|162.125.2.15|:443... connected.\n",
            "HTTP request sent, awaiting response... 200 OK\n",
            "Length: 9125 (8.9K) [application/binary]\n",
            "Saving to: ‘dataset.csv’\n",
            "\n",
            "dataset.csv         100%[===================>]   8.91K  --.-KB/s    in 0s      \n",
            "\n",
            "2023-06-05 21:27:10 (153 MB/s) - ‘dataset.csv’ saved [9125/9125]\n",
            "\n"
          ]
        }
      ]
    },
    {
      "cell_type": "markdown",
      "source": [
        "Load the dataset as a dataframe"
      ],
      "metadata": {
        "id": "d9Imt5hubwiz"
      }
    },
    {
      "cell_type": "code",
      "source": [
        "df = pd.read_csv(\"dataset.csv\")"
      ],
      "metadata": {
        "id": "RuRn5PGpskHI"
      },
      "execution_count": 3,
      "outputs": []
    },
    {
      "cell_type": "markdown",
      "source": [
        "Check if there are any missing values (and remove them) **(P1-1: 2 points)**"
      ],
      "metadata": {
        "id": "RWiHRlHkb1Bf"
      }
    },
    {
      "cell_type": "code",
      "source": [
        "df.isnull().sum()"
      ],
      "metadata": {
        "execution": {
          "iopub.status.busy": "2023-05-24T06:42:35.080087Z",
          "iopub.execute_input": "2023-05-24T06:42:35.080727Z",
          "iopub.status.idle": "2023-05-24T06:42:35.091722Z",
          "shell.execute_reply.started": "2023-05-24T06:42:35.080676Z",
          "shell.execute_reply": "2023-05-24T06:42:35.089794Z"
        },
        "trusted": true,
        "id": "YqfwGyG9UmDI",
        "colab": {
          "base_uri": "https://localhost:8080/"
        },
        "outputId": "5177dc45-abcb-448d-ab08-1f19d4d9176b"
      },
      "execution_count": 4,
      "outputs": [
        {
          "output_type": "execute_result",
          "data": {
            "text/plain": [
              "Area               0\n",
              "Perimeter          0\n",
              "Compactness        0\n",
              "Kernel.Length      0\n",
              "Kernel.Width       0\n",
              "Asymmetry.Coeff    0\n",
              "Kernel.Groove      0\n",
              "Type               0\n",
              "dtype: int64"
            ]
          },
          "metadata": {},
          "execution_count": 4
        }
      ]
    },
    {
      "cell_type": "code",
      "source": [
        "df.dropna(inplace=True)"
      ],
      "metadata": {
        "id": "4UP-vbivYE3S"
      },
      "execution_count": 5,
      "outputs": []
    },
    {
      "cell_type": "markdown",
      "source": [
        "Plot the heatmap of the correlation matrix between features **(P1-2: 3 points)**"
      ],
      "metadata": {
        "id": "VF5wHd-8b-aE"
      }
    },
    {
      "cell_type": "code",
      "source": [
        "corr_matrix = df.corr()\n",
        "\n",
        "plt.figure(figsize=(10, 8))\n",
        "sns.heatmap(corr_matrix, annot=True, cmap=\"coolwarm\")\n",
        "plt.title(\"Correlation Matrix Heatmap\")\n",
        "plt.show()"
      ],
      "metadata": {
        "execution": {
          "iopub.status.busy": "2023-05-24T06:43:36.794295Z",
          "iopub.execute_input": "2023-05-24T06:43:36.794843Z",
          "iopub.status.idle": "2023-05-24T06:43:37.411526Z",
          "shell.execute_reply.started": "2023-05-24T06:43:36.794803Z",
          "shell.execute_reply": "2023-05-24T06:43:37.410238Z"
        },
        "trusted": true,
        "id": "NP0TksdUUmDI",
        "colab": {
          "base_uri": "https://localhost:8080/",
          "height": 804
        },
        "outputId": "78d3a91d-d5b3-41b3-9bdc-7bb23157c89d"
      },
      "execution_count": 7,
      "outputs": [
        {
          "output_type": "display_data",
          "data": {
            "text/plain": [
              "<Figure size 1000x800 with 2 Axes>"
            ],
            "image/png": "[encoded data removed]"
          },
          "metadata": {}
        }
      ]
    },
    {
      "cell_type": "markdown",
      "source": [
        "Remove features which are highly correlated (> 95%) with the other ones **(P1-3: 5 points)**"
      ],
      "metadata": {
        "id": "DC874nRgcG38"
      }
    },
    {
      "cell_type": "code",
      "source": [
        "df.head()"
      ],
      "metadata": {
        "colab": {
          "base_uri": "https://localhost:8080/",
          "height": 206
        },
        "id": "USnDYQyYYiv6",
        "outputId": "38961c3d-9995-48a5-fcca-69982efd9848"
      },
      "execution_count": 8,
      "outputs": [
        {
          "output_type": "execute_result",
          "data": {
            "text/plain": [
              "    Area  Perimeter  Compactness  Kernel.Length  Kernel.Width  \\\n",
              "0  15.26      14.84       0.8710          5.763         3.312   \n",
              "1  14.88      14.57       0.8811          5.554         3.333   \n",
              "2  14.29      14.09       0.9050          5.291         3.337   \n",
              "3  13.84      13.94       0.8955          5.324         3.379   \n",
              "4  16.14      14.99       0.9034          5.658         3.562   \n",
              "\n",
              "   Asymmetry.Coeff  Kernel.Groove  Type  \n",
              "0            2.221          5.220     1  \n",
              "1            1.018          4.956     1  \n",
              "2            2.699          4.825     1  \n",
              "3            2.259          4.805     1  \n",
              "4            1.355          5.175     1  "
            ],
            "text/html": [
              "\n",
              "  <div id=\"df-5cf7f2b9-52d1-4d13-8583-824d682495c9\">\n",
              "    <div class=\"colab-df-container\">\n",
              "      <div>\n",
              "<style scoped>\n",
              "    .dataframe tbody tr th:only-of-type {\n",
              "        vertical-align: middle;\n",
              "    }\n",
              "\n",
              "    .dataframe tbody tr th {\n",
              "        vertical-align: top;\n",
              "    }\n",
              "\n",
              "    .dataframe thead th {\n",
              "        text-align: right;\n",
              "    }\n",
              "</style>\n",
              "<table border=\"1\" class=\"dataframe\">\n",
              "  <thead>\n",
              "    <tr style=\"text-align: right;\">\n",
              "      <th></th>\n",
              "      <th>Area</th>\n",
              "      <th>Perimeter</th>\n",
              "      <th>Compactness</th>\n",
              "      <th>Kernel.Length</th>\n",
              "      <th>Kernel.Width</th>\n",
              "      <th>Asymmetry.Coeff</th>\n",
              "      <th>Kernel.Groove</th>\n",
              "      <th>Type</th>\n",
              "    </tr>\n",
              "  </thead>\n",
              "  <tbody>\n",
              "    <tr>\n",
              "      <th>0</th>\n",
              "      <td>15.26</td>\n",
              "      <td>14.84</td>\n",
              "      <td>0.8710</td>\n",
              "      <td>5.763</td>\n",
              "      <td>3.312</td>\n",
              "      <td>2.221</td>\n",
              "      <td>5.220</td>\n",
              "      <td>1</td>\n",
              "    </tr>\n",
              "    <tr>\n",
              "      <th>1</th>\n",
              "      <td>14.88</td>\n",
              "      <td>14.57</td>\n",
              "      <td>0.8811</td>\n",
              "      <td>5.554</td>\n",
              "      <td>3.333</td>\n",
              "      <td>1.018</td>\n",
              "      <td>4.956</td>\n",
              "      <td>1</td>\n",
              "    </tr>\n",
              "    <tr>\n",
              "      <th>2</th>\n",
              "      <td>14.29</td>\n",
              "      <td>14.09</td>\n",
              "      <td>0.9050</td>\n",
              "      <td>5.291</td>\n",
              "      <td>3.337</td>\n",
              "      <td>2.699</td>\n",
              "      <td>4.825</td>\n",
              "      <td>1</td>\n",
              "    </tr>\n",
              "    <tr>\n",
              "      <th>3</th>\n",
              "      <td>13.84</td>\n",
              "      <td>13.94</td>\n",
              "      <td>0.8955</td>\n",
              "      <td>5.324</td>\n",
              "      <td>3.379</td>\n",
              "      <td>2.259</td>\n",
              "      <td>4.805</td>\n",
              "      <td>1</td>\n",
              "    </tr>\n",
              "    <tr>\n",
              "      <th>4</th>\n",
              "      <td>16.14</td>\n",
              "      <td>14.99</td>\n",
              "      <td>0.9034</td>\n",
              "      <td>5.658</td>\n",
              "      <td>3.562</td>\n",
              "      <td>1.355</td>\n",
              "      <td>5.175</td>\n",
              "      <td>1</td>\n",
              "    </tr>\n",
              "  </tbody>\n",
              "</table>\n",
              "</div>\n",
              "      <button class=\"colab-df-convert\" onclick=\"convertToInteractive('df-5cf7f2b9-52d1-4d13-8583-824d682495c9')\"\n",
              "              title=\"Convert this dataframe to an interactive table.\"\n",
              "              style=\"display:none;\">\n",
              "        \n",
              "  <svg xmlns=\"http://www.w3.org/2000/svg\" height=\"24px\"viewBox=\"0 0 24 24\"\n",
              "       width=\"24px\">\n",
              "    <path d=\"M0 0h24v24H0V0z\" fill=\"none\"/>\n",
              "    <path d=\"M18.56 5.44l.94 2.06.94-2.06 2.06-.94-2.06-.94-.94-2.06-.94 2.06-2.06.94zm-11 1L8.5 8.5l.94-2.06 2.06-.94-2.06-.94L8.5 2.5l-.94 2.06-2.06.94zm10 10l.94 2.06.94-2.06 2.06-.94-2.06-.94-.94-2.06-.94 2.06-2.06.94z\"/><path d=\"M17.41 7.96l-1.37-1.37c-.4-.4-.92-.59-1.43-.59-.52 0-1.04.2-1.43.59L10.3 9.45l-7.72 7.72c-.78.78-.78 2.05 0 2.83L4 21.41c.39.39.9.59 1.41.59.51 0 1.02-.2 1.41-.59l7.78-7.78 2.81-2.81c.8-.78.8-2.07 0-2.86zM5.41 20L4 18.59l7.72-7.72 1.47 1.35L5.41 20z\"/>\n",
              "  </svg>\n",
              "      </button>\n",
              "      \n",
              "  <style>\n",
              "    .colab-df-container {\n",
              "      display:flex;\n",
              "      flex-wrap:wrap;\n",
              "      gap: 12px;\n",
              "    }\n",
              "\n",
              "    .colab-df-convert {\n",
              "      background-color: #E8F0FE;\n",
              "      border: none;\n",
              "      border-radius: 50%;\n",
              "      cursor: pointer;\n",
              "      display: none;\n",
              "      fill: #1967D2;\n",
              "      height: 32px;\n",
              "      padding: 0 0 0 0;\n",
              "      width: 32px;\n",
              "    }\n",
              "\n",
              "    .colab-df-convert:hover {\n",
              "      background-color: #E2EBFA;\n",
              "      box-shadow: 0px 1px 2px rgba(60, 64, 67, 0.3), 0px 1px 3px 1px rgba(60, 64, 67, 0.15);\n",
              "      fill: #174EA6;\n",
              "    }\n",
              "\n",
              "    [theme=dark] .colab-df-convert {\n",
              "      background-color: #3B4455;\n",
              "      fill: #D2E3FC;\n",
              "    }\n",
              "\n",
              "    [theme=dark] .colab-df-convert:hover {\n",
              "      background-color: #434B5C;\n",
              "      box-shadow: 0px 1px 3px 1px rgba(0, 0, 0, 0.15);\n",
              "      filter: drop-shadow(0px 1px 2px rgba(0, 0, 0, 0.3));\n",
              "      fill: #FFFFFF;\n",
              "    }\n",
              "  </style>\n",
              "\n",
              "      <script>\n",
              "        const buttonEl =\n",
              "          document.querySelector('#df-5cf7f2b9-52d1-4d13-8583-824d682495c9 button.colab-df-convert');\n",
              "        buttonEl.style.display =\n",
              "          google.colab.kernel.accessAllowed ? 'block' : 'none';\n",
              "\n",
              "        async function convertToInteractive(key) {\n",
              "          const element = document.querySelector('#df-5cf7f2b9-52d1-4d13-8583-824d682495c9');\n",
              "          const dataTable =\n",
              "            await google.colab.kernel.invokeFunction('convertToInteractive',\n",
              "                                                     [key], {});\n",
              "          if (!dataTable) return;\n",
              "\n",
              "          const docLinkHtml = 'Like what you see? Visit the ' +\n",
              "            '<a target=\"_blank\" href=https://colab.research.google.com/notebooks/data_table.ipynb>data table notebook</a>'\n",
              "            + ' to learn more about interactive tables.';\n",
              "          element.innerHTML = '';\n",
              "          dataTable['output_type'] = 'display_data';\n",
              "          await google.colab.output.renderOutput(dataTable, element);\n",
              "          const docLink = document.createElement('div');\n",
              "          docLink.innerHTML = docLinkHtml;\n",
              "          element.appendChild(docLink);\n",
              "        }\n",
              "      </script>\n",
              "    </div>\n",
              "  </div>\n",
              "  "
            ]
          },
          "metadata": {},
          "execution_count": 8
        }
      ]
    },
    {
      "cell_type": "code",
      "source": [
        "high_corr_features = set()  # To store the features with high correlation\n",
        "\n",
        "for i in range(len(corr_matrix.columns)):\n",
        "    for j in range(i):\n",
        "        if abs(corr_matrix.iloc[i, j]) > 0.95:\n",
        "            feature = corr_matrix.columns[i]\n",
        "            high_corr_features.add(feature)\n",
        "\n",
        "# Remove highly correlated features\n",
        "df.drop(high_corr_features, axis=1, inplace=True)"
      ],
      "metadata": {
        "execution": {
          "iopub.status.busy": "2023-05-24T06:47:34.398266Z",
          "iopub.execute_input": "2023-05-24T06:47:34.398700Z",
          "iopub.status.idle": "2023-05-24T06:47:34.418229Z",
          "shell.execute_reply.started": "2023-05-24T06:47:34.398658Z",
          "shell.execute_reply": "2023-05-24T06:47:34.417048Z"
        },
        "trusted": true,
        "id": "yPdwUIV4UmDJ"
      },
      "execution_count": 9,
      "outputs": []
    },
    {
      "cell_type": "code",
      "source": [
        "df.head()"
      ],
      "metadata": {
        "colab": {
          "base_uri": "https://localhost:8080/",
          "height": 206
        },
        "id": "EP89b-1hYlbJ",
        "outputId": "a82ff9a6-7c47-4e84-9664-4ba3301ae08d"
      },
      "execution_count": 10,
      "outputs": [
        {
          "output_type": "execute_result",
          "data": {
            "text/plain": [
              "    Area  Compactness  Asymmetry.Coeff  Kernel.Groove  Type\n",
              "0  15.26       0.8710            2.221          5.220     1\n",
              "1  14.88       0.8811            1.018          4.956     1\n",
              "2  14.29       0.9050            2.699          4.825     1\n",
              "3  13.84       0.8955            2.259          4.805     1\n",
              "4  16.14       0.9034            1.355          5.175     1"
            ],
            "text/html": [
              "\n",
              "  <div id=\"df-56b70038-4ffa-4e3d-afbd-877a68d99338\">\n",
              "    <div class=\"colab-df-container\">\n",
              "      <div>\n",
              "<style scoped>\n",
              "    .dataframe tbody tr th:only-of-type {\n",
              "        vertical-align: middle;\n",
              "    }\n",
              "\n",
              "    .dataframe tbody tr th {\n",
              "        vertical-align: top;\n",
              "    }\n",
              "\n",
              "    .dataframe thead th {\n",
              "        text-align: right;\n",
              "    }\n",
              "</style>\n",
              "<table border=\"1\" class=\"dataframe\">\n",
              "  <thead>\n",
              "    <tr style=\"text-align: right;\">\n",
              "      <th></th>\n",
              "      <th>Area</th>\n",
              "      <th>Compactness</th>\n",
              "      <th>Asymmetry.Coeff</th>\n",
              "      <th>Kernel.Groove</th>\n",
              "      <th>Type</th>\n",
              "    </tr>\n",
              "  </thead>\n",
              "  <tbody>\n",
              "    <tr>\n",
              "      <th>0</th>\n",
              "      <td>15.26</td>\n",
              "      <td>0.8710</td>\n",
              "      <td>2.221</td>\n",
              "      <td>5.220</td>\n",
              "      <td>1</td>\n",
              "    </tr>\n",
              "    <tr>\n",
              "      <th>1</th>\n",
              "      <td>14.88</td>\n",
              "      <td>0.8811</td>\n",
              "      <td>1.018</td>\n",
              "      <td>4.956</td>\n",
              "      <td>1</td>\n",
              "    </tr>\n",
              "    <tr>\n",
              "      <th>2</th>\n",
              "      <td>14.29</td>\n",
              "      <td>0.9050</td>\n",
              "      <td>2.699</td>\n",
              "      <td>4.825</td>\n",
              "      <td>1</td>\n",
              "    </tr>\n",
              "    <tr>\n",
              "      <th>3</th>\n",
              "      <td>13.84</td>\n",
              "      <td>0.8955</td>\n",
              "      <td>2.259</td>\n",
              "      <td>4.805</td>\n",
              "      <td>1</td>\n",
              "    </tr>\n",
              "    <tr>\n",
              "      <th>4</th>\n",
              "      <td>16.14</td>\n",
              "      <td>0.9034</td>\n",
              "      <td>1.355</td>\n",
              "      <td>5.175</td>\n",
              "      <td>1</td>\n",
              "    </tr>\n",
              "  </tbody>\n",
              "</table>\n",
              "</div>\n",
              "      <button class=\"colab-df-convert\" onclick=\"convertToInteractive('df-56b70038-4ffa-4e3d-afbd-877a68d99338')\"\n",
              "              title=\"Convert this dataframe to an interactive table.\"\n",
              "              style=\"display:none;\">\n",
              "        \n",
              "  <svg xmlns=\"http://www.w3.org/2000/svg\" height=\"24px\"viewBox=\"0 0 24 24\"\n",
              "       width=\"24px\">\n",
              "    <path d=\"M0 0h24v24H0V0z\" fill=\"none\"/>\n",
              "    <path d=\"M18.56 5.44l.94 2.06.94-2.06 2.06-.94-2.06-.94-.94-2.06-.94 2.06-2.06.94zm-11 1L8.5 8.5l.94-2.06 2.06-.94-2.06-.94L8.5 2.5l-.94 2.06-2.06.94zm10 10l.94 2.06.94-2.06 2.06-.94-2.06-.94-.94-2.06-.94 2.06-2.06.94z\"/><path d=\"M17.41 7.96l-1.37-1.37c-.4-.4-.92-.59-1.43-.59-.52 0-1.04.2-1.43.59L10.3 9.45l-7.72 7.72c-.78.78-.78 2.05 0 2.83L4 21.41c.39.39.9.59 1.41.59.51 0 1.02-.2 1.41-.59l7.78-7.78 2.81-2.81c.8-.78.8-2.07 0-2.86zM5.41 20L4 18.59l7.72-7.72 1.47 1.35L5.41 20z\"/>\n",
              "  </svg>\n",
              "      </button>\n",
              "      \n",
              "  <style>\n",
              "    .colab-df-container {\n",
              "      display:flex;\n",
              "      flex-wrap:wrap;\n",
              "      gap: 12px;\n",
              "    }\n",
              "\n",
              "    .colab-df-convert {\n",
              "      background-color: #E8F0FE;\n",
              "      border: none;\n",
              "      border-radius: 50%;\n",
              "      cursor: pointer;\n",
              "      display: none;\n",
              "      fill: #1967D2;\n",
              "      height: 32px;\n",
              "      padding: 0 0 0 0;\n",
              "      width: 32px;\n",
              "    }\n",
              "\n",
              "    .colab-df-convert:hover {\n",
              "      background-color: #E2EBFA;\n",
              "      box-shadow: 0px 1px 2px rgba(60, 64, 67, 0.3), 0px 1px 3px 1px rgba(60, 64, 67, 0.15);\n",
              "      fill: #174EA6;\n",
              "    }\n",
              "\n",
              "    [theme=dark] .colab-df-convert {\n",
              "      background-color: #3B4455;\n",
              "      fill: #D2E3FC;\n",
              "    }\n",
              "\n",
              "    [theme=dark] .colab-df-convert:hover {\n",
              "      background-color: #434B5C;\n",
              "      box-shadow: 0px 1px 3px 1px rgba(0, 0, 0, 0.15);\n",
              "      filter: drop-shadow(0px 1px 2px rgba(0, 0, 0, 0.3));\n",
              "      fill: #FFFFFF;\n",
              "    }\n",
              "  </style>\n",
              "\n",
              "      <script>\n",
              "        const buttonEl =\n",
              "          document.querySelector('#df-56b70038-4ffa-4e3d-afbd-877a68d99338 button.colab-df-convert');\n",
              "        buttonEl.style.display =\n",
              "          google.colab.kernel.accessAllowed ? 'block' : 'none';\n",
              "\n",
              "        async function convertToInteractive(key) {\n",
              "          const element = document.querySelector('#df-56b70038-4ffa-4e3d-afbd-877a68d99338');\n",
              "          const dataTable =\n",
              "            await google.colab.kernel.invokeFunction('convertToInteractive',\n",
              "                                                     [key], {});\n",
              "          if (!dataTable) return;\n",
              "\n",
              "          const docLinkHtml = 'Like what you see? Visit the ' +\n",
              "            '<a target=\"_blank\" href=https://colab.research.google.com/notebooks/data_table.ipynb>data table notebook</a>'\n",
              "            + ' to learn more about interactive tables.';\n",
              "          element.innerHTML = '';\n",
              "          dataTable['output_type'] = 'display_data';\n",
              "          await google.colab.output.renderOutput(dataTable, element);\n",
              "          const docLink = document.createElement('div');\n",
              "          docLink.innerHTML = docLinkHtml;\n",
              "          element.appendChild(docLink);\n",
              "        }\n",
              "      </script>\n",
              "    </div>\n",
              "  </div>\n",
              "  "
            ]
          },
          "metadata": {},
          "execution_count": 10
        }
      ]
    },
    {
      "cell_type": "markdown",
      "source": [
        "Check for imbalance between classes **(P1-4: 3 points)**"
      ],
      "metadata": {
        "id": "2O2NEn6McNgN"
      }
    },
    {
      "cell_type": "code",
      "source": [
        "class_counts = df[\"Type\"].value_counts()\n",
        "\n",
        "plt.figure(figsize=(8, 6))\n",
        "sns.countplot(data=df, x=\"Type\")\n",
        "plt.title(\"Class Distribution\")\n",
        "plt.xlabel(\"Type\")\n",
        "plt.ylabel(\"Count\")\n",
        "plt.show()"
      ],
      "metadata": {
        "execution": {
          "iopub.status.busy": "2023-05-24T06:50:13.895162Z",
          "iopub.execute_input": "2023-05-24T06:50:13.895599Z",
          "iopub.status.idle": "2023-05-24T06:50:13.905600Z",
          "shell.execute_reply.started": "2023-05-24T06:50:13.895565Z",
          "shell.execute_reply": "2023-05-24T06:50:13.904313Z"
        },
        "trusted": true,
        "id": "jfApFEhjUmDJ",
        "colab": {
          "base_uri": "https://localhost:8080/",
          "height": 564
        },
        "outputId": "4fdf8c83-ecf4-4b50-f4ca-943b51d9bbe4"
      },
      "execution_count": 11,
      "outputs": [
        {
          "output_type": "display_data",
          "data": {
            "text/plain": [
              "<Figure size 800x600 with 1 Axes>"
            ],
            "image/png": "[encoded data removed]"
          },
          "metadata": {}
        }
      ]
    },
    {
      "cell_type": "code",
      "source": [
        "print(class_counts)"
      ],
      "metadata": {
        "colab": {
          "base_uri": "https://localhost:8080/"
        },
        "id": "N2-TlyifaUUn",
        "outputId": "f59d7306-7685-4454-d56f-31aa19ddc370"
      },
      "execution_count": 12,
      "outputs": [
        {
          "output_type": "stream",
          "name": "stdout",
          "text": [
            "2    68\n",
            "1    66\n",
            "3    65\n",
            "Name: Type, dtype: int64\n"
          ]
        }
      ]
    },
    {
      "cell_type": "markdown",
      "source": [
        "## P2: Prepare the Training Data"
      ],
      "metadata": {
        "id": "iqg_DkvfUmDK"
      }
    },
    {
      "cell_type": "markdown",
      "source": [
        "Convert features and the target into numpy arrays **(P2-1: 2 points)**"
      ],
      "metadata": {
        "id": "SNbqym9_cfX7"
      }
    },
    {
      "cell_type": "code",
      "source": [
        "X = df.drop('Type', axis=1).values\n",
        "y = df['Type'].values"
      ],
      "metadata": {
        "execution": {
          "iopub.status.busy": "2023-05-24T06:53:36.362537Z",
          "iopub.execute_input": "2023-05-24T06:53:36.362962Z",
          "iopub.status.idle": "2023-05-24T06:53:36.372547Z",
          "shell.execute_reply.started": "2023-05-24T06:53:36.362921Z",
          "shell.execute_reply": "2023-05-24T06:53:36.371066Z"
        },
        "trusted": true,
        "id": "bjIaMSwDUmDK"
      },
      "execution_count": 13,
      "outputs": []
    },
    {
      "cell_type": "markdown",
      "source": [
        "Split the samples into training (80%) and testing (20%) arrays **(P2-2: 5 points)**"
      ],
      "metadata": {
        "id": "WAbTVPmsc_NZ"
      }
    },
    {
      "cell_type": "code",
      "source": [
        "X_train, X_test, y_train, y_test = train_test_split(X, y, test_size=0.2, random_state=42)"
      ],
      "metadata": {
        "execution": {
          "iopub.status.busy": "2023-05-24T06:55:50.649173Z",
          "iopub.execute_input": "2023-05-24T06:55:50.649684Z",
          "iopub.status.idle": "2023-05-24T06:55:50.657736Z",
          "shell.execute_reply.started": "2023-05-24T06:55:50.649644Z",
          "shell.execute_reply": "2023-05-24T06:55:50.656442Z"
        },
        "trusted": true,
        "id": "tuVoQeG5UmDK"
      },
      "execution_count": 14,
      "outputs": []
    },
    {
      "cell_type": "markdown",
      "source": [
        "## P3: Decision Tree Implementation"
      ],
      "metadata": {
        "id": "vK8uumlAUmDL"
      }
    },
    {
      "cell_type": "markdown",
      "source": [
        "Implement desicion tree for classification from scratch **(P3-1: 20 points)**"
      ],
      "metadata": {
        "id": "cjUlsiCYdd69"
      }
    },
    {
      "cell_type": "code",
      "source": [
        "class DecisionTree:\n",
        "\n",
        "  def __init__(self, criterion=\"entropy\", max_depth=None):\n",
        "    \"\"\" \n",
        "    Parameters:\n",
        "    criterion -- “gini” for the Gini impurity and “entropy” for the Information Gain. (default “entropy”)\n",
        "    max_depth -- The maximum depth of the tree. If None, then nodes are expanded until all leaves are pure. (default=None)\n",
        "    \"\"\"\n",
        "    self.criterion = criterion\n",
        "    self.max_depth = max_depth\n",
        "    self.tree = None # The root node of the tree\n",
        "\n",
        "  def fit(self, X, y):\n",
        "    \"\"\" \n",
        "    Build a decision tree classifier from the training set (X, y).\n",
        "    \n",
        "    Returns:\n",
        "    self : Fitted estimator\n",
        "    \"\"\"\n",
        "    # Convert X and y into numpy arrays\n",
        "    X = np.array(X)\n",
        "    y = np.array(y)\n",
        "\n",
        "    # Build the tree recursively\n",
        "    self.tree = self.build_tree(X, y, 0)\n",
        "\n",
        "    return self\n",
        "\n",
        "  def predict(self, X):\n",
        "    \"\"\" \n",
        "    Predict class value for X.\n",
        "    \n",
        "    Returns:\n",
        "    y : The predicted classes\n",
        "    \"\"\"\n",
        "    y = []\n",
        "\n",
        "    # Traverse the tree for each sample in X\n",
        "    for x in X:\n",
        "      y.append(self.traverse_tree(x, self.tree))\n",
        "\n",
        "    return y\n",
        "\n",
        "  def build_tree(self, X, y, depth):\n",
        "    \"\"\" \n",
        "    Build a decision tree recursively.\n",
        "\n",
        "    Parameters:\n",
        "    X -- The feature matrix of the current node\n",
        "    y -- The target vector of the current node\n",
        "    depth -- The current depth of the tree\n",
        "\n",
        "    Returns:\n",
        "    node : A dictionary that represents a node in the tree\n",
        "    \"\"\"\n",
        "\n",
        "    # Get the number of samples and features in the current node\n",
        "    n_samples, n_features = X.shape\n",
        "\n",
        "    # Get the unique classes and their counts in the current node\n",
        "    classes, counts = np.unique(y, return_counts=True)\n",
        "\n",
        "    # Create a node dictionary\n",
        "    node = {}\n",
        "\n",
        "    # Check if the node is pure (only one class) or the maximum depth is reached\n",
        "    if len(classes) == 1 or depth == self.max_depth:\n",
        "      # Set the node as a leaf and assign the majority class as the prediction\n",
        "      node['type'] = 'leaf'\n",
        "      node['prediction'] = classes[np.argmax(counts)]\n",
        "      return node\n",
        "\n",
        "    # Set the node as an internal node and find the best split feature and value\n",
        "    node['type'] = 'internal'\n",
        "    \n",
        "    # Initialize the best information gain (or gini impurity), feature index and value\n",
        "    best_gain = 0\n",
        "    best_feature = 0\n",
        "    best_value = 0\n",
        "\n",
        "    # Loop through each feature and each unique value in that feature\n",
        "    for f in range(n_features):\n",
        "      values = np.unique(X[:,f])\n",
        "      for v in values:\n",
        "        # Split the data based on the feature and value\n",
        "        left_mask = X[:,f] <= v\n",
        "        right_mask = X[:,f] > v\n",
        "\n",
        "        X_left, y_left = X[left_mask], y[left_mask]\n",
        "        X_right, y_right = X[right_mask], y[right_mask]\n",
        "\n",
        "        # Calculate the information gain (or gini impurity) of the split\n",
        "        if self.criterion == 'entropy':\n",
        "          gain = self.information_gain(y, y_left, y_right)\n",
        "        elif self.criterion == 'gini':\n",
        "          gain = self.gini_impurity(y) - self.weighted_gini_impurity(y_left, y_right)\n",
        "\n",
        "        # Update the best information gain (or gini impurity), feature index and value if needed\n",
        "        if gain > best_gain:\n",
        "          best_gain = gain\n",
        "          best_feature = f\n",
        "          best_value = v\n",
        "    \n",
        "    # Set the best split feature and value for the node\n",
        "    node['feature'] = best_feature\n",
        "    node['value'] = best_value\n",
        "\n",
        "    # Split the data based on the best split feature and value\n",
        "    left_mask = X[:,best_feature] <= best_value\n",
        "    right_mask = X[:,best_feature] > best_value\n",
        "\n",
        "    X_left, y_left = X[left_mask], y[left_mask]\n",
        "    X_right, y_right = X[right_mask], y[right_mask]\n",
        "\n",
        "    # Recursively build the left and right subtrees and assign them to the node\n",
        "    node['left'] = self.build_tree(X_left, y_left, depth + 1)\n",
        "    node['right'] = self.build_tree(X_right, y_right, depth + 1)\n",
        "\n",
        "    return node\n",
        "\n",
        "  def traverse_tree(self, x, node):\n",
        "    \"\"\" \n",
        "    Traverse the tree for a given sample and return the prediction.\n",
        "\n",
        "    Parameters:\n",
        "    x -- A single sample\n",
        "    node -- The current node in the tree\n",
        "\n",
        "    Returns:\n",
        "    prediction : The predicted class for the sample\n",
        "    \"\"\"\n",
        "\n",
        "    # Check if the node is a leaf\n",
        "    if node['type'] == 'leaf':\n",
        "      # Return the prediction of the node\n",
        "      return node['prediction']\n",
        "    \n",
        "    # Check if the sample value is less than or equal to the split value of the node\n",
        "    if x[node['feature']] <= node['value']:\n",
        "      # Traverse the left subtree\n",
        "      return self.traverse_tree(x, node['left'])\n",
        "    else:\n",
        "      # Traverse the right subtree\n",
        "      return self.traverse_tree(x, node['right'])\n",
        "\n",
        "  def information_gain(self, y, y_left, y_right):\n",
        "    \"\"\" \n",
        "    Calculate the information gain of a split.\n",
        "\n",
        "    Parameters:\n",
        "    y -- The target vector of the parent node\n",
        "    y_left -- The target vector of the left child node\n",
        "    y_right -- The target vector of the right child node\n",
        "\n",
        "    Returns:\n",
        "    gain : The information gain of the split\n",
        "    \"\"\"\n",
        "\n",
        "    # Calculate the entropy of the parent node\n",
        "    parent_entropy = self.entropy(y)\n",
        "\n",
        "    # Calculate the entropy of the left child node\n",
        "    left_entropy = self.entropy(y_left)\n",
        "\n",
        "    # Calculate the entropy of the right child node\n",
        "    right_entropy = self.entropy(y_right)\n",
        "\n",
        "    # Calculate the weighted average entropy of the child nodes\n",
        "    n = len(y)\n",
        "    n_left = len(y_left)\n",
        "    n_right = len(y_right)\n",
        "    \n",
        "    weighted_child_entropy = (n_left / n) * left_entropy + (n_right / n) * right_entropy\n",
        "\n",
        "    # Calculate the information gain of the split\n",
        "    gain = parent_entropy - weighted_child_entropy\n",
        "\n",
        "    return gain\n",
        "\n",
        "  def entropy(self, y):\n",
        "\n",
        "    \"\"\" \n",
        "    Calculate the entropy of a target vector.\n",
        "\n",
        "    Parameters:\n",
        "    y -- The target vector\n",
        "\n",
        "    Returns:\n",
        "    entropy : The entropy of the target vector\n",
        "    \"\"\"\n",
        "\n",
        "     # Get the unique classes and their counts in the target vector\n",
        "    classes, counts = np.unique(y, return_counts=True)\n",
        "\n",
        "     # Calculate the probabilities of each class\n",
        "    probabilities = counts / counts.sum()\n",
        "\n",
        "     # Calculate the entropy of the target vector\n",
        "    entropy = -np.sum(probabilities * np.log2(probabilities))\n",
        "\n",
        "    return entropy\n",
        "\n",
        "  def gini_impurity(self, y):\n",
        "     \"\"\" \n",
        "     Calculate the gini impurity of a target vector.\n",
        "\n",
        "     Parameters:\n",
        "     y -- The target vector\n",
        "\n",
        "     Returns:\n",
        "     gini : The gini impurity of the target vector\n",
        "     \"\"\"\n",
        "\n",
        "     # Get the unique classes and their counts in the target vector\n",
        "     classes, counts = np.unique(y, return_counts=True)\n",
        "\n",
        "     # Calculate the probabilities of each class\n",
        "     probabilities = counts / counts.sum()\n",
        "\n",
        "     # Calculate the gini impurity of the target vector\n",
        "     gini = 1 - np.sum(probabilities ** 2)\n",
        "\n",
        "     return gini\n",
        "\n",
        "  def weighted_gini_impurity(self, y_left, y_right):\n",
        "     \"\"\" \n",
        "     Calculate the weighted average gini impurity of two child nodes.\n",
        "\n",
        "     Parameters:\n",
        "     y_left -- The target vector of the left child node\n",
        "     y_right -- The target vector of the right child node\n",
        "\n",
        "     Returns:\n",
        "     weighted_gini : The weighted average gini impurity of two child nodes\n",
        "     \"\"\"\n",
        "\n",
        "     # Calculate the gini impurity of the left child node\n",
        "     left_gini = self.gini_impurity(y_left)\n",
        "\n",
        "     # Calculate the gini impurity of the right child node\n",
        "     right_gini = self.gini_impurity(y_right)\n",
        "\n",
        "     # Calculate the weighted average gini impurity of two child nodes\n",
        "     n_left = len(y_left)\n",
        "     n_right = len(y_right)\n",
        "     \n",
        "     weighted_gini = (n_left / (n_left + n_right)) * left_gini + (n_right / (n_left + n_right)) * right_gini\n",
        "\n",
        "     return weighted_gini\n",
        "\n"
      ],
      "metadata": {
        "id": "CxbHxgWJeJR2"
      },
      "execution_count": 15,
      "outputs": []
    },
    {
      "cell_type": "markdown",
      "source": [
        "Define two decision trees with two different criteria **(P3-2: 3 points)**"
      ],
      "metadata": {
        "id": "0zZRBqIwdjfX"
      }
    },
    {
      "cell_type": "code",
      "source": [
        "tree1 = DecisionTree(criterion=\"gini\")\n",
        "tree2 = DecisionTree(criterion=\"entropy\")"
      ],
      "metadata": {
        "id": "48Gvh2AvUmDM"
      },
      "execution_count": 16,
      "outputs": []
    },
    {
      "cell_type": "markdown",
      "source": [
        "Fit the defined decision trees on training samples **(P3-3: 2 points)**"
      ],
      "metadata": {
        "id": "yP1tHIzsdvdf"
      }
    },
    {
      "cell_type": "code",
      "source": [
        "tree1.fit(X_train, y_train)\n",
        "tree2.fit(X_train, y_train)"
      ],
      "metadata": {
        "id": "hYINieZEUmDM",
        "colab": {
          "base_uri": "https://localhost:8080/"
        },
        "outputId": "d8c9c84e-4c0b-43ac-ca1f-4382e2d5e3e3"
      },
      "execution_count": 17,
      "outputs": [
        {
          "output_type": "execute_result",
          "data": {
            "text/plain": [
              "<__main__.DecisionTree at 0x7fd02e8621a0>"
            ]
          },
          "metadata": {},
          "execution_count": 17
        }
      ]
    },
    {
      "cell_type": "markdown",
      "source": [
        "Get the results on the test set **(P3-4: 5 points)**"
      ],
      "metadata": {
        "id": "8OFAB5DZdz7s"
      }
    },
    {
      "cell_type": "code",
      "source": [
        "y_pred_tree1 = tree1.predict(X_test)\n",
        "y_pred_tree2 = tree2.predict(X_test)"
      ],
      "metadata": {
        "id": "4PSIJEkmUmDM"
      },
      "execution_count": 18,
      "outputs": []
    },
    {
      "cell_type": "markdown",
      "source": [
        "Train the decision trees, considering the values [1,2,3,4,5] as the maximum depth **(P3-5: 5 points)**"
      ],
      "metadata": {
        "id": "4fVMCCuMd6uC"
      }
    },
    {
      "cell_type": "code",
      "source": [
        "depths = [1, 2, 3, 4, 5]\n",
        "trees = []\n",
        "\n",
        "for depth in depths:\n",
        "    tree = DecisionTree(max_depth=depth)\n",
        "    tree.fit(X_train, y_train)\n",
        "    trees.append(tree)\n"
      ],
      "metadata": {
        "id": "W6iKq_N6UmDM"
      },
      "execution_count": 19,
      "outputs": []
    },
    {
      "cell_type": "markdown",
      "source": [
        "Compare the accuracy score of the decision trees with and without using the \"max_depth\" parameter and discuss the effects of limiting the maximum depth of decision trees. **(P3-6: 5 points)**"
      ],
      "metadata": {
        "id": "RzSv_Rb5eR6M"
      }
    },
    {
      "cell_type": "code",
      "source": [
        "\n",
        "# Assuming y_test is the true labels for the test set\n",
        "\n",
        "# List to store the accuracy scores\n",
        "accuracy_scores = []\n",
        "\n",
        "# Evaluate accuracy for each tree\n",
        "for tree in trees:\n",
        "    y_pred = tree.predict(X_test)\n",
        "    accuracy = accuracy_score(y_test, y_pred)\n",
        "    accuracy_scores.append(accuracy)\n",
        "\n",
        "# Print the accuracy scores\n",
        "for depth, accuracy in zip(depths, accuracy_scores):\n",
        "    print(f\"Accuracy for max_depth={depth}: {accuracy}\")\n"
      ],
      "metadata": {
        "id": "Si-JEqhsUmDN",
        "colab": {
          "base_uri": "https://localhost:8080/"
        },
        "outputId": "ebcfcbc9-7ac4-4d60-9e37-d62d5b00d203"
      },
      "execution_count": 20,
      "outputs": [
        {
          "output_type": "stream",
          "name": "stdout",
          "text": [
            "Accuracy for max_depth=1: 0.7\n",
            "Accuracy for max_depth=2: 0.925\n",
            "Accuracy for max_depth=3: 0.825\n",
            "Accuracy for max_depth=4: 0.875\n",
            "Accuracy for max_depth=5: 0.875\n"
          ]
        }
      ]
    },
    {
      "cell_type": "markdown",
      "source": [
        "The initial depth is set up from before so we just talk about this part. when we raise the depth we make the model more complex. From the bias and variance tradeoff we know that if we make the model more complex, to a point it gets better accuracy but from a point it starts to get overfitted. The results above show such thing."
      ],
      "metadata": {
        "id": "yD-JgOvPrBGH"
      }
    },
    {
      "cell_type": "markdown",
      "source": [
        "## P4: Ensemble Models"
      ],
      "metadata": {
        "id": "FDJ3KWH2UmDN"
      }
    },
    {
      "cell_type": "markdown",
      "source": [
        "### P4-1: Bagging"
      ],
      "metadata": {
        "id": "CoVu14uOUmDN"
      }
    },
    {
      "cell_type": "markdown",
      "source": [
        "Implement the bagging algorithm for classification from scratch **(P4-1-1: 15 points)**"
      ],
      "metadata": {
        "id": "QSFF3YN2exyE"
      }
    },
    {
      "cell_type": "code",
      "source": [
        "from sklearn.utils import resample\n",
        "from scipy.stats import mode\n",
        "\n",
        "class BaggingDecisionTree:\n",
        "    def __init__(self, bootstraped_training_num=50, predictors_num=50):\n",
        "        \"\"\"\n",
        "        Parameters:\n",
        "\n",
        "        bootstraped_training_num -- The number of training sets we are gonna have\n",
        "        predictors_num -- The number of predictors we want to use for each test sample\n",
        "        \"\"\"\n",
        "        self.bootstraped_training_num = bootstraped_training_num\n",
        "        self.predictors_num = predictors_num\n",
        "        self.classifiers = []\n",
        "\n",
        "    def fit(self, X, y):\n",
        "        \"\"\"\n",
        "        Create `self.bootstraped_training_num` training sets by random sampling of the input training elements with replacement.\n",
        "        Then create the same number of classifiers and fit each classifier on the corresponding training set.\n",
        "\n",
        "        Parameters:\n",
        "        X : training features array\n",
        "        y : target array\n",
        "\n",
        "        Returns:\n",
        "        self : Fitted estimator\n",
        "        \"\"\"\n",
        "        self.classifiers = []\n",
        "        for _ in range(self.bootstraped_training_num):\n",
        "            # Create a bootstrap sample\n",
        "            X_bootstrap, y_bootstrap = resample(X, y, replace=True)\n",
        "            # Create a decision tree classifier\n",
        "            classifier = DecisionTree()\n",
        "            # Fit the classifier on the bootstrap sample\n",
        "            classifier.fit(X_bootstrap, y_bootstrap)\n",
        "            # Append the trained classifier to the list of classifiers\n",
        "            self.classifiers.append(classifier)\n",
        "        return self\n",
        "\n",
        "    def predict(self, X):\n",
        "        \"\"\"\n",
        "        Predict class value for X using majority voting of `self.predictors_num` classifiers.\n",
        "\n",
        "        Parameters:\n",
        "        X : training features array\n",
        "\n",
        "        Returns:\n",
        "        y : The predicted classes\n",
        "        \"\"\"\n",
        "        y_pred = []\n",
        "        for sample in X:\n",
        "            classifiers_subset = resample(self.classifiers, n_samples=self.predictors_num, replace=False)\n",
        "            # Make predictions for each classifier\n",
        "            predictions = [classifier.predict([sample])[0] for classifier in classifiers_subset]##classifiers_subset\n",
        "            # Select the most common prediction\n",
        "            majority_vote = mode(predictions)[0][0]\n",
        "            y_pred.append(majority_vote)\n",
        "        return y_pred\n"
      ],
      "metadata": {
        "id": "MzmWoXw1nNwL"
      },
      "execution_count": 23,
      "outputs": []
    },
    {
      "cell_type": "markdown",
      "source": [
        "Create an instance of the BaggingDecisionTree class with `bootstraped_training_num=50`, `predictors_num=50` and fit it on the training data **(P4-1-2: 3 points)**"
      ],
      "metadata": {
        "id": "2g__7Wppe-8x"
      }
    },
    {
      "cell_type": "code",
      "source": [
        "bagging_tree = BaggingDecisionTree(bootstraped_training_num=50, predictors_num=50)\n",
        "bagging_tree.fit(X_train, y_train)"
      ],
      "metadata": {
        "execution": {
          "iopub.status.busy": "2023-05-24T07:37:02.732776Z",
          "iopub.execute_input": "2023-05-24T07:37:02.733345Z",
          "iopub.status.idle": "2023-05-24T07:37:02.755458Z",
          "shell.execute_reply.started": "2023-05-24T07:37:02.733301Z",
          "shell.execute_reply": "2023-05-24T07:37:02.754110Z"
        },
        "trusted": true,
        "id": "0DO4IpI8UmDO",
        "colab": {
          "base_uri": "https://localhost:8080/"
        },
        "outputId": "2e91a757-85f7-44dd-ffad-eea2444dd29f"
      },
      "execution_count": 24,
      "outputs": [
        {
          "output_type": "execute_result",
          "data": {
            "text/plain": [
              "<__main__.BaggingDecisionTree at 0x7fd02e87b8e0>"
            ]
          },
          "metadata": {},
          "execution_count": 24
        }
      ]
    },
    {
      "cell_type": "markdown",
      "source": [
        "Create another instance of the BaggingDecisionTree class with `bootstraped_training_num=50`, `predictors_num=7` and fit it on the training data **(P4-1-3: 2 points)**"
      ],
      "metadata": {
        "id": "C3P5M4QtfOn4"
      }
    },
    {
      "cell_type": "code",
      "source": [
        "bagging_tree2 = BaggingDecisionTree(bootstraped_training_num=50, predictors_num=7)\n",
        "bagging_tree2.fit(X_train, y_train)"
      ],
      "metadata": {
        "id": "aovAzNhPUmDO",
        "colab": {
          "base_uri": "https://localhost:8080/"
        },
        "outputId": "9c97c366-7904-4be7-cee8-357854e6f5ec"
      },
      "execution_count": 25,
      "outputs": [
        {
          "output_type": "execute_result",
          "data": {
            "text/plain": [
              "<__main__.BaggingDecisionTree at 0x7fd02e87b400>"
            ]
          },
          "metadata": {},
          "execution_count": 25
        }
      ]
    },
    {
      "cell_type": "markdown",
      "source": [
        "Test the created models on the test set. Discuss differences of two approaches we adopted. **(P4-1-4: 5 points)**"
      ],
      "metadata": {
        "id": "wbncvgGBoiHF"
      }
    },
    {
      "cell_type": "code",
      "source": [
        "y_pred1 = bagging_tree.predict(X_test)\n",
        "y_pred2 = bagging_tree2.predict(X_test)"
      ],
      "metadata": {
        "id": "4R7mpMH3oqnM",
        "colab": {
          "base_uri": "https://localhost:8080/"
        },
        "outputId": "a29f6c2d-6011-4949-c7a7-3b6742a66601"
      },
      "execution_count": 26,
      "outputs": [
        {
          "output_type": "stream",
          "name": "stderr",
          "text": [
            "<ipython-input-23-154e3102a491>:57: FutureWarning: Unlike other reduction functions (e.g. `skew`, `kurtosis`), the default behavior of `mode` typically preserves the axis it acts along. In SciPy 1.11.0, this behavior will change: the default value of `keepdims` will become False, the `axis` over which the statistic is taken will be eliminated, and the value None will no longer be accepted. Set `keepdims` to True or False to avoid this warning.\n",
            "  majority_vote = mode(predictions)[0][0]\n",
            "<ipython-input-23-154e3102a491>:57: FutureWarning: Unlike other reduction functions (e.g. `skew`, `kurtosis`), the default behavior of `mode` typically preserves the axis it acts along. In SciPy 1.11.0, this behavior will change: the default value of `keepdims` will become False, the `axis` over which the statistic is taken will be eliminated, and the value None will no longer be accepted. Set `keepdims` to True or False to avoid this warning.\n",
            "  majority_vote = mode(predictions)[0][0]\n",
            "<ipython-input-23-154e3102a491>:57: FutureWarning: Unlike other reduction functions (e.g. `skew`, `kurtosis`), the default behavior of `mode` typically preserves the axis it acts along. In SciPy 1.11.0, this behavior will change: the default value of `keepdims` will become False, the `axis` over which the statistic is taken will be eliminated, and the value None will no longer be accepted. Set `keepdims` to True or False to avoid this warning.\n",
            "  majority_vote = mode(predictions)[0][0]\n",
            "<ipython-input-23-154e3102a491>:57: FutureWarning: Unlike other reduction functions (e.g. `skew`, `kurtosis`), the default behavior of `mode` typically preserves the axis it acts along. In SciPy 1.11.0, this behavior will change: the default value of `keepdims` will become False, the `axis` over which the statistic is taken will be eliminated, and the value None will no longer be accepted. Set `keepdims` to True or False to avoid this warning.\n",
            "  majority_vote = mode(predictions)[0][0]\n",
            "<ipython-input-23-154e3102a491>:57: FutureWarning: Unlike other reduction functions (e.g. `skew`, `kurtosis`), the default behavior of `mode` typically preserves the axis it acts along. In SciPy 1.11.0, this behavior will change: the default value of `keepdims` will become False, the `axis` over which the statistic is taken will be eliminated, and the value None will no longer be accepted. Set `keepdims` to True or False to avoid this warning.\n",
            "  majority_vote = mode(predictions)[0][0]\n",
            "<ipython-input-23-154e3102a491>:57: FutureWarning: Unlike other reduction functions (e.g. `skew`, `kurtosis`), the default behavior of `mode` typically preserves the axis it acts along. In SciPy 1.11.0, this behavior will change: the default value of `keepdims` will become False, the `axis` over which the statistic is taken will be eliminated, and the value None will no longer be accepted. Set `keepdims` to True or False to avoid this warning.\n",
            "  majority_vote = mode(predictions)[0][0]\n",
            "<ipython-input-23-154e3102a491>:57: FutureWarning: Unlike other reduction functions (e.g. `skew`, `kurtosis`), the default behavior of `mode` typically preserves the axis it acts along. In SciPy 1.11.0, this behavior will change: the default value of `keepdims` will become False, the `axis` over which the statistic is taken will be eliminated, and the value None will no longer be accepted. Set `keepdims` to True or False to avoid this warning.\n",
            "  majority_vote = mode(predictions)[0][0]\n",
            "<ipython-input-23-154e3102a491>:57: FutureWarning: Unlike other reduction functions (e.g. `skew`, `kurtosis`), the default behavior of `mode` typically preserves the axis it acts along. In SciPy 1.11.0, this behavior will change: the default value of `keepdims` will become False, the `axis` over which the statistic is taken will be eliminated, and the value None will no longer be accepted. Set `keepdims` to True or False to avoid this warning.\n",
            "  majority_vote = mode(predictions)[0][0]\n",
            "<ipython-input-23-154e3102a491>:57: FutureWarning: Unlike other reduction functions (e.g. `skew`, `kurtosis`), the default behavior of `mode` typically preserves the axis it acts along. In SciPy 1.11.0, this behavior will change: the default value of `keepdims` will become False, the `axis` over which the statistic is taken will be eliminated, and the value None will no longer be accepted. Set `keepdims` to True or False to avoid this warning.\n",
            "  majority_vote = mode(predictions)[0][0]\n",
            "<ipython-input-23-154e3102a491>:57: FutureWarning: Unlike other reduction functions (e.g. `skew`, `kurtosis`), the default behavior of `mode` typically preserves the axis it acts along. In SciPy 1.11.0, this behavior will change: the default value of `keepdims` will become False, the `axis` over which the statistic is taken will be eliminated, and the value None will no longer be accepted. Set `keepdims` to True or False to avoid this warning.\n",
            "  majority_vote = mode(predictions)[0][0]\n",
            "<ipython-input-23-154e3102a491>:57: FutureWarning: Unlike other reduction functions (e.g. `skew`, `kurtosis`), the default behavior of `mode` typically preserves the axis it acts along. In SciPy 1.11.0, this behavior will change: the default value of `keepdims` will become False, the `axis` over which the statistic is taken will be eliminated, and the value None will no longer be accepted. Set `keepdims` to True or False to avoid this warning.\n",
            "  majority_vote = mode(predictions)[0][0]\n",
            "<ipython-input-23-154e3102a491>:57: FutureWarning: Unlike other reduction functions (e.g. `skew`, `kurtosis`), the default behavior of `mode` typically preserves the axis it acts along. In SciPy 1.11.0, this behavior will change: the default value of `keepdims` will become False, the `axis` over which the statistic is taken will be eliminated, and the value None will no longer be accepted. Set `keepdims` to True or False to avoid this warning.\n",
            "  majority_vote = mode(predictions)[0][0]\n",
            "<ipython-input-23-154e3102a491>:57: FutureWarning: Unlike other reduction functions (e.g. `skew`, `kurtosis`), the default behavior of `mode` typically preserves the axis it acts along. In SciPy 1.11.0, this behavior will change: the default value of `keepdims` will become False, the `axis` over which the statistic is taken will be eliminated, and the value None will no longer be accepted. Set `keepdims` to True or False to avoid this warning.\n",
            "  majority_vote = mode(predictions)[0][0]\n",
            "<ipython-input-23-154e3102a491>:57: FutureWarning: Unlike other reduction functions (e.g. `skew`, `kurtosis`), the default behavior of `mode` typically preserves the axis it acts along. In SciPy 1.11.0, this behavior will change: the default value of `keepdims` will become False, the `axis` over which the statistic is taken will be eliminated, and the value None will no longer be accepted. Set `keepdims` to True or False to avoid this warning.\n",
            "  majority_vote = mode(predictions)[0][0]\n",
            "<ipython-input-23-154e3102a491>:57: FutureWarning: Unlike other reduction functions (e.g. `skew`, `kurtosis`), the default behavior of `mode` typically preserves the axis it acts along. In SciPy 1.11.0, this behavior will change: the default value of `keepdims` will become False, the `axis` over which the statistic is taken will be eliminated, and the value None will no longer be accepted. Set `keepdims` to True or False to avoid this warning.\n",
            "  majority_vote = mode(predictions)[0][0]\n",
            "<ipython-input-23-154e3102a491>:57: FutureWarning: Unlike other reduction functions (e.g. `skew`, `kurtosis`), the default behavior of `mode` typically preserves the axis it acts along. In SciPy 1.11.0, this behavior will change: the default value of `keepdims` will become False, the `axis` over which the statistic is taken will be eliminated, and the value None will no longer be accepted. Set `keepdims` to True or False to avoid this warning.\n",
            "  majority_vote = mode(predictions)[0][0]\n",
            "<ipython-input-23-154e3102a491>:57: FutureWarning: Unlike other reduction functions (e.g. `skew`, `kurtosis`), the default behavior of `mode` typically preserves the axis it acts along. In SciPy 1.11.0, this behavior will change: the default value of `keepdims` will become False, the `axis` over which the statistic is taken will be eliminated, and the value None will no longer be accepted. Set `keepdims` to True or False to avoid this warning.\n",
            "  majority_vote = mode(predictions)[0][0]\n",
            "<ipython-input-23-154e3102a491>:57: FutureWarning: Unlike other reduction functions (e.g. `skew`, `kurtosis`), the default behavior of `mode` typically preserves the axis it acts along. In SciPy 1.11.0, this behavior will change: the default value of `keepdims` will become False, the `axis` over which the statistic is taken will be eliminated, and the value None will no longer be accepted. Set `keepdims` to True or False to avoid this warning.\n",
            "  majority_vote = mode(predictions)[0][0]\n",
            "<ipython-input-23-154e3102a491>:57: FutureWarning: Unlike other reduction functions (e.g. `skew`, `kurtosis`), the default behavior of `mode` typically preserves the axis it acts along. In SciPy 1.11.0, this behavior will change: the default value of `keepdims` will become False, the `axis` over which the statistic is taken will be eliminated, and the value None will no longer be accepted. Set `keepdims` to True or False to avoid this warning.\n",
            "  majority_vote = mode(predictions)[0][0]\n",
            "<ipython-input-23-154e3102a491>:57: FutureWarning: Unlike other reduction functions (e.g. `skew`, `kurtosis`), the default behavior of `mode` typically preserves the axis it acts along. In SciPy 1.11.0, this behavior will change: the default value of `keepdims` will become False, the `axis` over which the statistic is taken will be eliminated, and the value None will no longer be accepted. Set `keepdims` to True or False to avoid this warning.\n",
            "  majority_vote = mode(predictions)[0][0]\n",
            "<ipython-input-23-154e3102a491>:57: FutureWarning: Unlike other reduction functions (e.g. `skew`, `kurtosis`), the default behavior of `mode` typically preserves the axis it acts along. In SciPy 1.11.0, this behavior will change: the default value of `keepdims` will become False, the `axis` over which the statistic is taken will be eliminated, and the value None will no longer be accepted. Set `keepdims` to True or False to avoid this warning.\n",
            "  majority_vote = mode(predictions)[0][0]\n",
            "<ipython-input-23-154e3102a491>:57: FutureWarning: Unlike other reduction functions (e.g. `skew`, `kurtosis`), the default behavior of `mode` typically preserves the axis it acts along. In SciPy 1.11.0, this behavior will change: the default value of `keepdims` will become False, the `axis` over which the statistic is taken will be eliminated, and the value None will no longer be accepted. Set `keepdims` to True or False to avoid this warning.\n",
            "  majority_vote = mode(predictions)[0][0]\n",
            "<ipython-input-23-154e3102a491>:57: FutureWarning: Unlike other reduction functions (e.g. `skew`, `kurtosis`), the default behavior of `mode` typically preserves the axis it acts along. In SciPy 1.11.0, this behavior will change: the default value of `keepdims` will become False, the `axis` over which the statistic is taken will be eliminated, and the value None will no longer be accepted. Set `keepdims` to True or False to avoid this warning.\n",
            "  majority_vote = mode(predictions)[0][0]\n",
            "<ipython-input-23-154e3102a491>:57: FutureWarning: Unlike other reduction functions (e.g. `skew`, `kurtosis`), the default behavior of `mode` typically preserves the axis it acts along. In SciPy 1.11.0, this behavior will change: the default value of `keepdims` will become False, the `axis` over which the statistic is taken will be eliminated, and the value None will no longer be accepted. Set `keepdims` to True or False to avoid this warning.\n",
            "  majority_vote = mode(predictions)[0][0]\n",
            "<ipython-input-23-154e3102a491>:57: FutureWarning: Unlike other reduction functions (e.g. `skew`, `kurtosis`), the default behavior of `mode` typically preserves the axis it acts along. In SciPy 1.11.0, this behavior will change: the default value of `keepdims` will become False, the `axis` over which the statistic is taken will be eliminated, and the value None will no longer be accepted. Set `keepdims` to True or False to avoid this warning.\n",
            "  majority_vote = mode(predictions)[0][0]\n",
            "<ipython-input-23-154e3102a491>:57: FutureWarning: Unlike other reduction functions (e.g. `skew`, `kurtosis`), the default behavior of `mode` typically preserves the axis it acts along. In SciPy 1.11.0, this behavior will change: the default value of `keepdims` will become False, the `axis` over which the statistic is taken will be eliminated, and the value None will no longer be accepted. Set `keepdims` to True or False to avoid this warning.\n",
            "  majority_vote = mode(predictions)[0][0]\n",
            "<ipython-input-23-154e3102a491>:57: FutureWarning: Unlike other reduction functions (e.g. `skew`, `kurtosis`), the default behavior of `mode` typically preserves the axis it acts along. In SciPy 1.11.0, this behavior will change: the default value of `keepdims` will become False, the `axis` over which the statistic is taken will be eliminated, and the value None will no longer be accepted. Set `keepdims` to True or False to avoid this warning.\n",
            "  majority_vote = mode(predictions)[0][0]\n",
            "<ipython-input-23-154e3102a491>:57: FutureWarning: Unlike other reduction functions (e.g. `skew`, `kurtosis`), the default behavior of `mode` typically preserves the axis it acts along. In SciPy 1.11.0, this behavior will change: the default value of `keepdims` will become False, the `axis` over which the statistic is taken will be eliminated, and the value None will no longer be accepted. Set `keepdims` to True or False to avoid this warning.\n",
            "  majority_vote = mode(predictions)[0][0]\n",
            "<ipython-input-23-154e3102a491>:57: FutureWarning: Unlike other reduction functions (e.g. `skew`, `kurtosis`), the default behavior of `mode` typically preserves the axis it acts along. In SciPy 1.11.0, this behavior will change: the default value of `keepdims` will become False, the `axis` over which the statistic is taken will be eliminated, and the value None will no longer be accepted. Set `keepdims` to True or False to avoid this warning.\n",
            "  majority_vote = mode(predictions)[0][0]\n",
            "<ipython-input-23-154e3102a491>:57: FutureWarning: Unlike other reduction functions (e.g. `skew`, `kurtosis`), the default behavior of `mode` typically preserves the axis it acts along. In SciPy 1.11.0, this behavior will change: the default value of `keepdims` will become False, the `axis` over which the statistic is taken will be eliminated, and the value None will no longer be accepted. Set `keepdims` to True or False to avoid this warning.\n",
            "  majority_vote = mode(predictions)[0][0]\n",
            "<ipython-input-23-154e3102a491>:57: FutureWarning: Unlike other reduction functions (e.g. `skew`, `kurtosis`), the default behavior of `mode` typically preserves the axis it acts along. In SciPy 1.11.0, this behavior will change: the default value of `keepdims` will become False, the `axis` over which the statistic is taken will be eliminated, and the value None will no longer be accepted. Set `keepdims` to True or False to avoid this warning.\n",
            "  majority_vote = mode(predictions)[0][0]\n",
            "<ipython-input-23-154e3102a491>:57: FutureWarning: Unlike other reduction functions (e.g. `skew`, `kurtosis`), the default behavior of `mode` typically preserves the axis it acts along. In SciPy 1.11.0, this behavior will change: the default value of `keepdims` will become False, the `axis` over which the statistic is taken will be eliminated, and the value None will no longer be accepted. Set `keepdims` to True or False to avoid this warning.\n",
            "  majority_vote = mode(predictions)[0][0]\n",
            "<ipython-input-23-154e3102a491>:57: FutureWarning: Unlike other reduction functions (e.g. `skew`, `kurtosis`), the default behavior of `mode` typically preserves the axis it acts along. In SciPy 1.11.0, this behavior will change: the default value of `keepdims` will become False, the `axis` over which the statistic is taken will be eliminated, and the value None will no longer be accepted. Set `keepdims` to True or False to avoid this warning.\n",
            "  majority_vote = mode(predictions)[0][0]\n",
            "<ipython-input-23-154e3102a491>:57: FutureWarning: Unlike other reduction functions (e.g. `skew`, `kurtosis`), the default behavior of `mode` typically preserves the axis it acts along. In SciPy 1.11.0, this behavior will change: the default value of `keepdims` will become False, the `axis` over which the statistic is taken will be eliminated, and the value None will no longer be accepted. Set `keepdims` to True or False to avoid this warning.\n",
            "  majority_vote = mode(predictions)[0][0]\n",
            "<ipython-input-23-154e3102a491>:57: FutureWarning: Unlike other reduction functions (e.g. `skew`, `kurtosis`), the default behavior of `mode` typically preserves the axis it acts along. In SciPy 1.11.0, this behavior will change: the default value of `keepdims` will become False, the `axis` over which the statistic is taken will be eliminated, and the value None will no longer be accepted. Set `keepdims` to True or False to avoid this warning.\n",
            "  majority_vote = mode(predictions)[0][0]\n",
            "<ipython-input-23-154e3102a491>:57: FutureWarning: Unlike other reduction functions (e.g. `skew`, `kurtosis`), the default behavior of `mode` typically preserves the axis it acts along. In SciPy 1.11.0, this behavior will change: the default value of `keepdims` will become False, the `axis` over which the statistic is taken will be eliminated, and the value None will no longer be accepted. Set `keepdims` to True or False to avoid this warning.\n",
            "  majority_vote = mode(predictions)[0][0]\n",
            "<ipython-input-23-154e3102a491>:57: FutureWarning: Unlike other reduction functions (e.g. `skew`, `kurtosis`), the default behavior of `mode` typically preserves the axis it acts along. In SciPy 1.11.0, this behavior will change: the default value of `keepdims` will become False, the `axis` over which the statistic is taken will be eliminated, and the value None will no longer be accepted. Set `keepdims` to True or False to avoid this warning.\n",
            "  majority_vote = mode(predictions)[0][0]\n",
            "<ipython-input-23-154e3102a491>:57: FutureWarning: Unlike other reduction functions (e.g. `skew`, `kurtosis`), the default behavior of `mode` typically preserves the axis it acts along. In SciPy 1.11.0, this behavior will change: the default value of `keepdims` will become False, the `axis` over which the statistic is taken will be eliminated, and the value None will no longer be accepted. Set `keepdims` to True or False to avoid this warning.\n",
            "  majority_vote = mode(predictions)[0][0]\n",
            "<ipython-input-23-154e3102a491>:57: FutureWarning: Unlike other reduction functions (e.g. `skew`, `kurtosis`), the default behavior of `mode` typically preserves the axis it acts along. In SciPy 1.11.0, this behavior will change: the default value of `keepdims` will become False, the `axis` over which the statistic is taken will be eliminated, and the value None will no longer be accepted. Set `keepdims` to True or False to avoid this warning.\n",
            "  majority_vote = mode(predictions)[0][0]\n",
            "<ipython-input-23-154e3102a491>:57: FutureWarning: Unlike other reduction functions (e.g. `skew`, `kurtosis`), the default behavior of `mode` typically preserves the axis it acts along. In SciPy 1.11.0, this behavior will change: the default value of `keepdims` will become False, the `axis` over which the statistic is taken will be eliminated, and the value None will no longer be accepted. Set `keepdims` to True or False to avoid this warning.\n",
            "  majority_vote = mode(predictions)[0][0]\n",
            "<ipython-input-23-154e3102a491>:57: FutureWarning: Unlike other reduction functions (e.g. `skew`, `kurtosis`), the default behavior of `mode` typically preserves the axis it acts along. In SciPy 1.11.0, this behavior will change: the default value of `keepdims` will become False, the `axis` over which the statistic is taken will be eliminated, and the value None will no longer be accepted. Set `keepdims` to True or False to avoid this warning.\n",
            "  majority_vote = mode(predictions)[0][0]\n",
            "<ipython-input-23-154e3102a491>:57: FutureWarning: Unlike other reduction functions (e.g. `skew`, `kurtosis`), the default behavior of `mode` typically preserves the axis it acts along. In SciPy 1.11.0, this behavior will change: the default value of `keepdims` will become False, the `axis` over which the statistic is taken will be eliminated, and the value None will no longer be accepted. Set `keepdims` to True or False to avoid this warning.\n",
            "  majority_vote = mode(predictions)[0][0]\n",
            "<ipython-input-23-154e3102a491>:57: FutureWarning: Unlike other reduction functions (e.g. `skew`, `kurtosis`), the default behavior of `mode` typically preserves the axis it acts along. In SciPy 1.11.0, this behavior will change: the default value of `keepdims` will become False, the `axis` over which the statistic is taken will be eliminated, and the value None will no longer be accepted. Set `keepdims` to True or False to avoid this warning.\n",
            "  majority_vote = mode(predictions)[0][0]\n",
            "<ipython-input-23-154e3102a491>:57: FutureWarning: Unlike other reduction functions (e.g. `skew`, `kurtosis`), the default behavior of `mode` typically preserves the axis it acts along. In SciPy 1.11.0, this behavior will change: the default value of `keepdims` will become False, the `axis` over which the statistic is taken will be eliminated, and the value None will no longer be accepted. Set `keepdims` to True or False to avoid this warning.\n",
            "  majority_vote = mode(predictions)[0][0]\n",
            "<ipython-input-23-154e3102a491>:57: FutureWarning: Unlike other reduction functions (e.g. `skew`, `kurtosis`), the default behavior of `mode` typically preserves the axis it acts along. In SciPy 1.11.0, this behavior will change: the default value of `keepdims` will become False, the `axis` over which the statistic is taken will be eliminated, and the value None will no longer be accepted. Set `keepdims` to True or False to avoid this warning.\n",
            "  majority_vote = mode(predictions)[0][0]\n",
            "<ipython-input-23-154e3102a491>:57: FutureWarning: Unlike other reduction functions (e.g. `skew`, `kurtosis`), the default behavior of `mode` typically preserves the axis it acts along. In SciPy 1.11.0, this behavior will change: the default value of `keepdims` will become False, the `axis` over which the statistic is taken will be eliminated, and the value None will no longer be accepted. Set `keepdims` to True or False to avoid this warning.\n",
            "  majority_vote = mode(predictions)[0][0]\n",
            "<ipython-input-23-154e3102a491>:57: FutureWarning: Unlike other reduction functions (e.g. `skew`, `kurtosis`), the default behavior of `mode` typically preserves the axis it acts along. In SciPy 1.11.0, this behavior will change: the default value of `keepdims` will become False, the `axis` over which the statistic is taken will be eliminated, and the value None will no longer be accepted. Set `keepdims` to True or False to avoid this warning.\n",
            "  majority_vote = mode(predictions)[0][0]\n",
            "<ipython-input-23-154e3102a491>:57: FutureWarning: Unlike other reduction functions (e.g. `skew`, `kurtosis`), the default behavior of `mode` typically preserves the axis it acts along. In SciPy 1.11.0, this behavior will change: the default value of `keepdims` will become False, the `axis` over which the statistic is taken will be eliminated, and the value None will no longer be accepted. Set `keepdims` to True or False to avoid this warning.\n",
            "  majority_vote = mode(predictions)[0][0]\n",
            "<ipython-input-23-154e3102a491>:57: FutureWarning: Unlike other reduction functions (e.g. `skew`, `kurtosis`), the default behavior of `mode` typically preserves the axis it acts along. In SciPy 1.11.0, this behavior will change: the default value of `keepdims` will become False, the `axis` over which the statistic is taken will be eliminated, and the value None will no longer be accepted. Set `keepdims` to True or False to avoid this warning.\n",
            "  majority_vote = mode(predictions)[0][0]\n",
            "<ipython-input-23-154e3102a491>:57: FutureWarning: Unlike other reduction functions (e.g. `skew`, `kurtosis`), the default behavior of `mode` typically preserves the axis it acts along. In SciPy 1.11.0, this behavior will change: the default value of `keepdims` will become False, the `axis` over which the statistic is taken will be eliminated, and the value None will no longer be accepted. Set `keepdims` to True or False to avoid this warning.\n",
            "  majority_vote = mode(predictions)[0][0]\n",
            "<ipython-input-23-154e3102a491>:57: FutureWarning: Unlike other reduction functions (e.g. `skew`, `kurtosis`), the default behavior of `mode` typically preserves the axis it acts along. In SciPy 1.11.0, this behavior will change: the default value of `keepdims` will become False, the `axis` over which the statistic is taken will be eliminated, and the value None will no longer be accepted. Set `keepdims` to True or False to avoid this warning.\n",
            "  majority_vote = mode(predictions)[0][0]\n",
            "<ipython-input-23-154e3102a491>:57: FutureWarning: Unlike other reduction functions (e.g. `skew`, `kurtosis`), the default behavior of `mode` typically preserves the axis it acts along. In SciPy 1.11.0, this behavior will change: the default value of `keepdims` will become False, the `axis` over which the statistic is taken will be eliminated, and the value None will no longer be accepted. Set `keepdims` to True or False to avoid this warning.\n",
            "  majority_vote = mode(predictions)[0][0]\n",
            "<ipython-input-23-154e3102a491>:57: FutureWarning: Unlike other reduction functions (e.g. `skew`, `kurtosis`), the default behavior of `mode` typically preserves the axis it acts along. In SciPy 1.11.0, this behavior will change: the default value of `keepdims` will become False, the `axis` over which the statistic is taken will be eliminated, and the value None will no longer be accepted. Set `keepdims` to True or False to avoid this warning.\n",
            "  majority_vote = mode(predictions)[0][0]\n",
            "<ipython-input-23-154e3102a491>:57: FutureWarning: Unlike other reduction functions (e.g. `skew`, `kurtosis`), the default behavior of `mode` typically preserves the axis it acts along. In SciPy 1.11.0, this behavior will change: the default value of `keepdims` will become False, the `axis` over which the statistic is taken will be eliminated, and the value None will no longer be accepted. Set `keepdims` to True or False to avoid this warning.\n",
            "  majority_vote = mode(predictions)[0][0]\n",
            "<ipython-input-23-154e3102a491>:57: FutureWarning: Unlike other reduction functions (e.g. `skew`, `kurtosis`), the default behavior of `mode` typically preserves the axis it acts along. In SciPy 1.11.0, this behavior will change: the default value of `keepdims` will become False, the `axis` over which the statistic is taken will be eliminated, and the value None will no longer be accepted. Set `keepdims` to True or False to avoid this warning.\n",
            "  majority_vote = mode(predictions)[0][0]\n",
            "<ipython-input-23-154e3102a491>:57: FutureWarning: Unlike other reduction functions (e.g. `skew`, `kurtosis`), the default behavior of `mode` typically preserves the axis it acts along. In SciPy 1.11.0, this behavior will change: the default value of `keepdims` will become False, the `axis` over which the statistic is taken will be eliminated, and the value None will no longer be accepted. Set `keepdims` to True or False to avoid this warning.\n",
            "  majority_vote = mode(predictions)[0][0]\n",
            "<ipython-input-23-154e3102a491>:57: FutureWarning: Unlike other reduction functions (e.g. `skew`, `kurtosis`), the default behavior of `mode` typically preserves the axis it acts along. In SciPy 1.11.0, this behavior will change: the default value of `keepdims` will become False, the `axis` over which the statistic is taken will be eliminated, and the value None will no longer be accepted. Set `keepdims` to True or False to avoid this warning.\n",
            "  majority_vote = mode(predictions)[0][0]\n",
            "<ipython-input-23-154e3102a491>:57: FutureWarning: Unlike other reduction functions (e.g. `skew`, `kurtosis`), the default behavior of `mode` typically preserves the axis it acts along. In SciPy 1.11.0, this behavior will change: the default value of `keepdims` will become False, the `axis` over which the statistic is taken will be eliminated, and the value None will no longer be accepted. Set `keepdims` to True or False to avoid this warning.\n",
            "  majority_vote = mode(predictions)[0][0]\n",
            "<ipython-input-23-154e3102a491>:57: FutureWarning: Unlike other reduction functions (e.g. `skew`, `kurtosis`), the default behavior of `mode` typically preserves the axis it acts along. In SciPy 1.11.0, this behavior will change: the default value of `keepdims` will become False, the `axis` over which the statistic is taken will be eliminated, and the value None will no longer be accepted. Set `keepdims` to True or False to avoid this warning.\n",
            "  majority_vote = mode(predictions)[0][0]\n",
            "<ipython-input-23-154e3102a491>:57: FutureWarning: Unlike other reduction functions (e.g. `skew`, `kurtosis`), the default behavior of `mode` typically preserves the axis it acts along. In SciPy 1.11.0, this behavior will change: the default value of `keepdims` will become False, the `axis` over which the statistic is taken will be eliminated, and the value None will no longer be accepted. Set `keepdims` to True or False to avoid this warning.\n",
            "  majority_vote = mode(predictions)[0][0]\n",
            "<ipython-input-23-154e3102a491>:57: FutureWarning: Unlike other reduction functions (e.g. `skew`, `kurtosis`), the default behavior of `mode` typically preserves the axis it acts along. In SciPy 1.11.0, this behavior will change: the default value of `keepdims` will become False, the `axis` over which the statistic is taken will be eliminated, and the value None will no longer be accepted. Set `keepdims` to True or False to avoid this warning.\n",
            "  majority_vote = mode(predictions)[0][0]\n",
            "<ipython-input-23-154e3102a491>:57: FutureWarning: Unlike other reduction functions (e.g. `skew`, `kurtosis`), the default behavior of `mode` typically preserves the axis it acts along. In SciPy 1.11.0, this behavior will change: the default value of `keepdims` will become False, the `axis` over which the statistic is taken will be eliminated, and the value None will no longer be accepted. Set `keepdims` to True or False to avoid this warning.\n",
            "  majority_vote = mode(predictions)[0][0]\n",
            "<ipython-input-23-154e3102a491>:57: FutureWarning: Unlike other reduction functions (e.g. `skew`, `kurtosis`), the default behavior of `mode` typically preserves the axis it acts along. In SciPy 1.11.0, this behavior will change: the default value of `keepdims` will become False, the `axis` over which the statistic is taken will be eliminated, and the value None will no longer be accepted. Set `keepdims` to True or False to avoid this warning.\n",
            "  majority_vote = mode(predictions)[0][0]\n",
            "<ipython-input-23-154e3102a491>:57: FutureWarning: Unlike other reduction functions (e.g. `skew`, `kurtosis`), the default behavior of `mode` typically preserves the axis it acts along. In SciPy 1.11.0, this behavior will change: the default value of `keepdims` will become False, the `axis` over which the statistic is taken will be eliminated, and the value None will no longer be accepted. Set `keepdims` to True or False to avoid this warning.\n",
            "  majority_vote = mode(predictions)[0][0]\n",
            "<ipython-input-23-154e3102a491>:57: FutureWarning: Unlike other reduction functions (e.g. `skew`, `kurtosis`), the default behavior of `mode` typically preserves the axis it acts along. In SciPy 1.11.0, this behavior will change: the default value of `keepdims` will become False, the `axis` over which the statistic is taken will be eliminated, and the value None will no longer be accepted. Set `keepdims` to True or False to avoid this warning.\n",
            "  majority_vote = mode(predictions)[0][0]\n",
            "<ipython-input-23-154e3102a491>:57: FutureWarning: Unlike other reduction functions (e.g. `skew`, `kurtosis`), the default behavior of `mode` typically preserves the axis it acts along. In SciPy 1.11.0, this behavior will change: the default value of `keepdims` will become False, the `axis` over which the statistic is taken will be eliminated, and the value None will no longer be accepted. Set `keepdims` to True or False to avoid this warning.\n",
            "  majority_vote = mode(predictions)[0][0]\n",
            "<ipython-input-23-154e3102a491>:57: FutureWarning: Unlike other reduction functions (e.g. `skew`, `kurtosis`), the default behavior of `mode` typically preserves the axis it acts along. In SciPy 1.11.0, this behavior will change: the default value of `keepdims` will become False, the `axis` over which the statistic is taken will be eliminated, and the value None will no longer be accepted. Set `keepdims` to True or False to avoid this warning.\n",
            "  majority_vote = mode(predictions)[0][0]\n",
            "<ipython-input-23-154e3102a491>:57: FutureWarning: Unlike other reduction functions (e.g. `skew`, `kurtosis`), the default behavior of `mode` typically preserves the axis it acts along. In SciPy 1.11.0, this behavior will change: the default value of `keepdims` will become False, the `axis` over which the statistic is taken will be eliminated, and the value None will no longer be accepted. Set `keepdims` to True or False to avoid this warning.\n",
            "  majority_vote = mode(predictions)[0][0]\n",
            "<ipython-input-23-154e3102a491>:57: FutureWarning: Unlike other reduction functions (e.g. `skew`, `kurtosis`), the default behavior of `mode` typically preserves the axis it acts along. In SciPy 1.11.0, this behavior will change: the default value of `keepdims` will become False, the `axis` over which the statistic is taken will be eliminated, and the value None will no longer be accepted. Set `keepdims` to True or False to avoid this warning.\n",
            "  majority_vote = mode(predictions)[0][0]\n",
            "<ipython-input-23-154e3102a491>:57: FutureWarning: Unlike other reduction functions (e.g. `skew`, `kurtosis`), the default behavior of `mode` typically preserves the axis it acts along. In SciPy 1.11.0, this behavior will change: the default value of `keepdims` will become False, the `axis` over which the statistic is taken will be eliminated, and the value None will no longer be accepted. Set `keepdims` to True or False to avoid this warning.\n",
            "  majority_vote = mode(predictions)[0][0]\n",
            "<ipython-input-23-154e3102a491>:57: FutureWarning: Unlike other reduction functions (e.g. `skew`, `kurtosis`), the default behavior of `mode` typically preserves the axis it acts along. In SciPy 1.11.0, this behavior will change: the default value of `keepdims` will become False, the `axis` over which the statistic is taken will be eliminated, and the value None will no longer be accepted. Set `keepdims` to True or False to avoid this warning.\n",
            "  majority_vote = mode(predictions)[0][0]\n",
            "<ipython-input-23-154e3102a491>:57: FutureWarning: Unlike other reduction functions (e.g. `skew`, `kurtosis`), the default behavior of `mode` typically preserves the axis it acts along. In SciPy 1.11.0, this behavior will change: the default value of `keepdims` will become False, the `axis` over which the statistic is taken will be eliminated, and the value None will no longer be accepted. Set `keepdims` to True or False to avoid this warning.\n",
            "  majority_vote = mode(predictions)[0][0]\n",
            "<ipython-input-23-154e3102a491>:57: FutureWarning: Unlike other reduction functions (e.g. `skew`, `kurtosis`), the default behavior of `mode` typically preserves the axis it acts along. In SciPy 1.11.0, this behavior will change: the default value of `keepdims` will become False, the `axis` over which the statistic is taken will be eliminated, and the value None will no longer be accepted. Set `keepdims` to True or False to avoid this warning.\n",
            "  majority_vote = mode(predictions)[0][0]\n",
            "<ipython-input-23-154e3102a491>:57: FutureWarning: Unlike other reduction functions (e.g. `skew`, `kurtosis`), the default behavior of `mode` typically preserves the axis it acts along. In SciPy 1.11.0, this behavior will change: the default value of `keepdims` will become False, the `axis` over which the statistic is taken will be eliminated, and the value None will no longer be accepted. Set `keepdims` to True or False to avoid this warning.\n",
            "  majority_vote = mode(predictions)[0][0]\n",
            "<ipython-input-23-154e3102a491>:57: FutureWarning: Unlike other reduction functions (e.g. `skew`, `kurtosis`), the default behavior of `mode` typically preserves the axis it acts along. In SciPy 1.11.0, this behavior will change: the default value of `keepdims` will become False, the `axis` over which the statistic is taken will be eliminated, and the value None will no longer be accepted. Set `keepdims` to True or False to avoid this warning.\n",
            "  majority_vote = mode(predictions)[0][0]\n",
            "<ipython-input-23-154e3102a491>:57: FutureWarning: Unlike other reduction functions (e.g. `skew`, `kurtosis`), the default behavior of `mode` typically preserves the axis it acts along. In SciPy 1.11.0, this behavior will change: the default value of `keepdims` will become False, the `axis` over which the statistic is taken will be eliminated, and the value None will no longer be accepted. Set `keepdims` to True or False to avoid this warning.\n",
            "  majority_vote = mode(predictions)[0][0]\n",
            "<ipython-input-23-154e3102a491>:57: FutureWarning: Unlike other reduction functions (e.g. `skew`, `kurtosis`), the default behavior of `mode` typically preserves the axis it acts along. In SciPy 1.11.0, this behavior will change: the default value of `keepdims` will become False, the `axis` over which the statistic is taken will be eliminated, and the value None will no longer be accepted. Set `keepdims` to True or False to avoid this warning.\n",
            "  majority_vote = mode(predictions)[0][0]\n",
            "<ipython-input-23-154e3102a491>:57: FutureWarning: Unlike other reduction functions (e.g. `skew`, `kurtosis`), the default behavior of `mode` typically preserves the axis it acts along. In SciPy 1.11.0, this behavior will change: the default value of `keepdims` will become False, the `axis` over which the statistic is taken will be eliminated, and the value None will no longer be accepted. Set `keepdims` to True or False to avoid this warning.\n",
            "  majority_vote = mode(predictions)[0][0]\n",
            "<ipython-input-23-154e3102a491>:57: FutureWarning: Unlike other reduction functions (e.g. `skew`, `kurtosis`), the default behavior of `mode` typically preserves the axis it acts along. In SciPy 1.11.0, this behavior will change: the default value of `keepdims` will become False, the `axis` over which the statistic is taken will be eliminated, and the value None will no longer be accepted. Set `keepdims` to True or False to avoid this warning.\n",
            "  majority_vote = mode(predictions)[0][0]\n",
            "<ipython-input-23-154e3102a491>:57: FutureWarning: Unlike other reduction functions (e.g. `skew`, `kurtosis`), the default behavior of `mode` typically preserves the axis it acts along. In SciPy 1.11.0, this behavior will change: the default value of `keepdims` will become False, the `axis` over which the statistic is taken will be eliminated, and the value None will no longer be accepted. Set `keepdims` to True or False to avoid this warning.\n",
            "  majority_vote = mode(predictions)[0][0]\n"
          ]
        }
      ]
    },
    {
      "cell_type": "code",
      "source": [
        "# Calculate accuracy for the first bagging tree\n",
        "accuracy1 = accuracy_score(y_test, y_pred1)\n",
        "\n",
        "# Calculate accuracy for the second bagging tree\n",
        "accuracy2 = accuracy_score(y_test, y_pred2)\n",
        "\n",
        "print(\"Accuracy for the first bagging tree:\", accuracy1)\n",
        "print(\"Accuracy for the second bagging tree:\", accuracy2)"
      ],
      "metadata": {
        "id": "edDRBs-3nWF_",
        "outputId": "505d0b9e-799d-41b6-c23f-5a597e28d113",
        "colab": {
          "base_uri": "https://localhost:8080/"
        }
      },
      "execution_count": 27,
      "outputs": [
        {
          "output_type": "stream",
          "name": "stdout",
          "text": [
            "Accuracy for the first bagging tree: 0.875\n",
            "Accuracy for the second bagging tree: 0.825\n"
          ]
        }
      ]
    },
    {
      "cell_type": "markdown",
      "source": [
        "The second tree has less voters. The firs one has more voters and we can say that because of having more voters, it can find the difference between classes better, specially in the edges, that the second model with less voters has higher probability to make a mistake."
      ],
      "metadata": {
        "id": "K3KBpl4xrs-g"
      }
    },
    {
      "cell_type": "markdown",
      "source": [
        "### P4-2: Boosting"
      ],
      "metadata": {
        "id": "oZDz7B3DUmDO"
      }
    },
    {
      "cell_type": "markdown",
      "source": [
        "Implement the Adaboost algorithm for classification from scratch **(P4-2-1: 10 points)**"
      ],
      "metadata": {
        "id": "rJhWmus3pDHI"
      }
    },
    {
      "cell_type": "markdown",
      "source": [
        "ATTENTION!!!!!:\n",
        "\n",
        "the code below is for binary adaboost but the dataset is nulticlass.\n",
        "The multiclass adaboost model is implemented in the nest block of code."
      ],
      "metadata": {
        "id": "cbJsoC1Gp-h3"
      }
    },
    {
      "cell_type": "code",
      "source": [
        "import numpy as np\n",
        "from sklearn.tree import DecisionTreeClassifier\n",
        "\n",
        "class AdaBoost:\n",
        "    def __init__(self, n_estimators=50):\n",
        "        \"\"\"\n",
        "        Parameters:\n",
        "        base_classifier : The base classifier used for boosting\n",
        "        n_estimators : The number of estimators (weak classifiers) to train (default=50)\n",
        "        \"\"\"\n",
        "        self.n_estimators = n_estimators\n",
        "        self.classifiers = []\n",
        "        self.classifier_weights = []\n",
        "    \n",
        "    def fit(self, X, y):\n",
        "        # Initialize sample weights uniformly\n",
        "        sample_weights = np.full(len(X), 1 / len(X))\n",
        "        y = y - 1\n",
        "        \n",
        "        for _ in range(self.n_estimators):\n",
        "            # Train a new classifier using the current sample weights\n",
        "            classifier = DecisionTreeClassifier(max_depth=1)\n",
        "            classifier.fit(X, y)\n",
        "            \n",
        "            # Make predictions on the training data\n",
        "            y_pred = classifier.predict(X)\n",
        "            #print(y_pred)\n",
        "            \n",
        "            # Compute weighted error rate\n",
        "            weighted_error = np.sum(sample_weights[y_pred != y])/np.sum(sample_weights)\n",
        "            if weighted_error >= 0.5:\n",
        "             continue\n",
        "            \n",
        "            # Calculate classifier weight\n",
        "            classifier_weight = 0.5 * np.log((1 - weighted_error) / weighted_error)\n",
        "            max_classifier_weight = 20\n",
        "            classifier_weight = min(classifier_weight, max_classifier_weight)\n",
        "            \n",
        "            # Update sample weights\n",
        "            sample_weights *= np.exp(-classifier_weight * y * y_pred)\n",
        "            sample_weights /= np.sum(sample_weights)\n",
        "            \n",
        "            # Save the classifier and its weight\n",
        "            self.classifiers.append(classifier)\n",
        "            self.classifier_weights.append(classifier_weight)\n",
        "        print(self.classifier_weights)\n",
        "        \n",
        "        return self\n",
        "    \n",
        "    def predict(self, X):\n",
        "        \"\"\"\n",
        "        Predict class value for X using majority voting of `self.predictors_num` classifiers.\n",
        "\n",
        "        Parameters:\n",
        "        X : training features array\n",
        "        \n",
        "        Returns:\n",
        "        y : The predicted classes\n",
        "        \"\"\"\n",
        "        n_samples = X.shape[0]\n",
        "        y_pred = np.zeros(n_samples)\n",
        "        \n",
        "        for classifier, classifier_weight in zip(self.classifiers, self.classifier_weights):\n",
        "            \n",
        "            predictions = np.array(classifier.predict(X))\n",
        "            y_pred += classifier_weight * predictions\n",
        "        \n",
        "        # Convert the weighted sum into class labels\n",
        "        y_pred = np.sign(y_pred)\n",
        "        y_pred = y_pred + 1        \n",
        "        return y_pred\n",
        "\n"
      ],
      "metadata": {
        "id": "s7JndhCXkWdn"
      },
      "execution_count": 44,
      "outputs": []
    },
    {
      "cell_type": "markdown",
      "source": [
        "Create an instance of Adaboost and fit it to the data **(P4-2-2: 2 points)**"
      ],
      "metadata": {
        "id": "kADfP8A-rvJ-"
      }
    },
    {
      "cell_type": "code",
      "source": [
        "adaboost = AdaBoost(50)\n",
        "adaboost.fit(X_train, y_train)"
      ],
      "metadata": {
        "id": "o4EcOGGoUmDO",
        "colab": {
          "base_uri": "https://localhost:8080/"
        },
        "outputId": "87fb6ce6-a13b-4b38-997c-c67b17530044"
      },
      "execution_count": 45,
      "outputs": [
        {
          "output_type": "stream",
          "name": "stdout",
          "text": [
            "[0.318528856954451, 0.2512489866489072, 0.2066640399840513, 0.17521266674516547, 0.15195359361987676, 0.13411244931910335, 0.1200245799009491, 0.10863610133074868, 0.09924979066210057, 0.0913871901464242, 0.08470968151467145, 0.07897122644554708, 0.07398895360536929, 0.06962423142794681, 0.06577012876173584, 0.06234289226544062, 0.05927602119352, 0.05651606400568918, 0.05401958201583455, 0.051750920003849114, 0.049680544970418336, 0.04778379149996894, 0.04603990250407196, 0.04443128749829473, 0.04294294310736499, 0.04156199596348171, 0.04027733893844642, 0.03907933926016021, 0.03795960250719096, 0.03691078041476585, 0.03592641330877662, 0.03500080011634212, 0.03412889049317943, 0.0333061948072913, 0.032528708629741034, 0.03179284908132041, 0.031095400922647173, 0.030433470694083316, 0.029804447539585742, 0.02920596960687566, 0.028635895120862724, 0.028092277390433983, 0.027573343139410435, 0.0270774736578561, 0.02660318835519951, 0.026149130366065036, 0.02571405391644113, 0.025296813204396137, 0.024896352587966086, 0.024511697904608765]\n"
          ]
        },
        {
          "output_type": "execute_result",
          "data": {
            "text/plain": [
              "<__main__.AdaBoost at 0x7f1de218eb00>"
            ]
          },
          "metadata": {},
          "execution_count": 45
        }
      ]
    },
    {
      "cell_type": "markdown",
      "source": [
        "Test Adaboost on the testing set **(P4-2-3: 3 points)**"
      ],
      "metadata": {
        "id": "DUDo-Q2Or5Eu"
      }
    },
    {
      "cell_type": "code",
      "source": [
        "y_pred = adaboost.predict(X_test)\n",
        "\n",
        "accuracy = np.sum(y_pred == y_test) / len(y_test)"
      ],
      "metadata": {
        "id": "z6cSwHAjeWxh"
      },
      "execution_count": 47,
      "outputs": []
    },
    {
      "cell_type": "code",
      "source": [
        "accuracy"
      ],
      "metadata": {
        "colab": {
          "base_uri": "https://localhost:8080/"
        },
        "id": "m0GHmeB6ebEA",
        "outputId": "a7ee76b6-fb9b-44d3-c842-9a0a53b77860"
      },
      "execution_count": 48,
      "outputs": [
        {
          "output_type": "execute_result",
          "data": {
            "text/plain": [
              "0.675"
            ]
          },
          "metadata": {},
          "execution_count": 48
        }
      ]
    },
    {
      "cell_type": "code",
      "source": [],
      "metadata": {
        "id": "mla2YG1Ye0gY"
      },
      "execution_count": null,
      "outputs": []
    },
    {
      "cell_type": "markdown",
      "source": [
        "ATTENTION!!!!:\n",
        "\n",
        "the code below is for multiclass daboost.This model trains one classifier per pair of classes, where each classifier tries to separate two classes from each other. This option requires n_classes * (n_classes - 1) / 2 classifiers, which can be computationally expensive for a large number of classes. It also requires a voting scheme to combine the predictions of the different classifiers and assign the final class label."
      ],
      "metadata": {
        "id": "tmzdnqz0qSX0"
      }
    },
    {
      "cell_type": "code",
      "source": [
        "from sklearn.tree import DecisionTreeClassifier\n",
        "from sklearn.utils import resample\n",
        "from scipy.stats import mode\n",
        "import itertools\n",
        "\n",
        "class OneVsOneAdaBoost:\n",
        "    def __init__(self, n_estimators=50):\n",
        "        \"\"\"\n",
        "        Parameters:\n",
        "        n_estimators : The number of estimators (weak classifiers) to train for each pair of classes (default=50)\n",
        "        \"\"\"\n",
        "        self.n_estimators = n_estimators\n",
        "        self.classifiers = {} # A dictionary that maps each pair of classes to a list of classifiers\n",
        "        self.classifier_weights = {} # A dictionary that maps each pair of classes to a list of classifier weights\n",
        "        \n",
        "    def fit(self, X, y):\n",
        "        classes = np.unique(y)\n",
        "        # Iterate over all pairs of classes\n",
        "        for class1, class2 in itertools.combinations(classes, 2):\n",
        "            # Create a subset of the data that contains only the samples of the two classes\n",
        "            X_subset = X[(y == class1) | (y == class2)]\n",
        "            y_subset = y[(y == class1) | (y == class2)]\n",
        "            y_subset = np.where(y_subset == class1, -1, 1)\n",
        "            sample_weights = np.full(len(X_subset), 1 / len(X_subset))\n",
        "            classifiers = []\n",
        "            classifier_weights = []\n",
        "            for _ in range(self.n_estimators):\n",
        "                classifier = DecisionTreeClassifier(max_depth=1)\n",
        "                classifier.fit(X_subset, y_subset, sample_weight=sample_weights)\n",
        "                \n",
        "                y_pred = classifier.predict(X_subset)\n",
        "                \n",
        "                weighted_error = np.sum(sample_weights[y_pred != y_subset])\n",
        "                \n",
        "                # Skip the classifier if the weighted error rate is too high\n",
        "                if weighted_error >= 0.5:\n",
        "                    continue\n",
        "                \n",
        "                classifier_weight = 0.5 * np.log((1 - weighted_error) / weighted_error)\n",
        "\n",
        "                # Limit the minimum value of the classifier weight\n",
        "                min_classifier_weight = 0.01\n",
        "                classifier_weight = max(classifier_weight, min_classifier_weight)\n",
        "                max_classifier_weight = 10\n",
        "                classifier_weight = min(classifier_weight, max_classifier_weight)\n",
        "\n",
        "                \n",
        "                # Update sample weights\n",
        "                sample_weights *= np.exp(-classifier_weight * y_subset * y_pred)\n",
        "                sample_weights /= np.sum(sample_weights)\n",
        "                \n",
        "                # Save the classifier and its weight for this pair of classes\n",
        "                classifiers.append(classifier)\n",
        "                classifier_weights.append(classifier_weight)\n",
        "            \n",
        "            # Save the list of classifiers and classifier weights for this pair of classes in the dictionaries\n",
        "            self.classifiers[(class1, class2)] = classifiers\n",
        "            self.classifier_weights[(class1, class2)] = classifier_weights\n",
        "        print(classifier_weights)\n",
        "        \n",
        "        return self\n",
        "    \n",
        "    def predict(self, X):\n",
        "        \"\"\"\n",
        "        Predict class value for X using majority voting of `self.predictors_num` classifiers.\n",
        "\n",
        "        Parameters:\n",
        "        X : training features array\n",
        "        \n",
        "        Returns:\n",
        "        y : The predicted classes\n",
        "        \"\"\"\n",
        "        n_samples = X.shape[0]\n",
        "        y_pred = []\n",
        "        \n",
        "        for sample in X:\n",
        "            # Make predictions for each pair of classes using their corresponding classifiers and classifier weights\n",
        "            predictions = {}\n",
        "            for (class1, class2), classifiers in self.classifiers.items():\n",
        "                classifier_weights = self.classifier_weights[(class1, class2)]\n",
        "                weighted_sum = 0\n",
        "                for classifier, classifier_weight in zip(classifiers, classifier_weights):\n",
        "                    prediction = classifier.predict([sample])[0]\n",
        "                    weighted_sum += classifier_weight * prediction\n",
        "                prediction = np.sign(weighted_sum)\n",
        "                prediction = class1 if prediction == -1 else class2\n",
        "                predictions[prediction] = predictions.get(prediction, 0) + 1\n",
        "            \n",
        "            # Select the most frequent class label as the final prediction for this sample\n",
        "            majority_vote = max(predictions, key=predictions.get)\n",
        "            y_pred.append(majority_vote)\n",
        "        \n",
        "        return y_pred\n"
      ],
      "metadata": {
        "id": "LrgeGF4-gqy8"
      },
      "execution_count": 53,
      "outputs": []
    },
    {
      "cell_type": "code",
      "source": [
        "adaboost = OneVsOneAdaBoost(50)\n",
        "adaboost.fit(X_train, y_train)"
      ],
      "metadata": {
        "colab": {
          "base_uri": "https://localhost:8080/"
        },
        "id": "TzqxgTYcgb5A",
        "outputId": "197d6422-57f5-49c0-ef84-faa323bbeed0"
      },
      "execution_count": 54,
      "outputs": [
        {
          "output_type": "stream",
          "name": "stdout",
          "text": [
            "[10, 10, 10, 10, 10, 10, 10, 10, 10, 10, 10, 10, 10, 10, 10, 10, 10, 10, 10, 10, 10, 10, 10, 10, 10, 10, 10, 10, 10, 10, 10, 10, 10, 10, 10, 10, 10, 10, 10, 10, 10, 10, 10, 10, 10, 10, 10, 10, 10, 10]\n"
          ]
        },
        {
          "output_type": "stream",
          "name": "stderr",
          "text": [
            "<ipython-input-53-c0df55db32dc>:49: RuntimeWarning: divide by zero encountered in double_scalars\n",
            "  classifier_weight = 0.5 * np.log((1 - weighted_error) / weighted_error)\n",
            "<ipython-input-53-c0df55db32dc>:49: RuntimeWarning: divide by zero encountered in double_scalars\n",
            "  classifier_weight = 0.5 * np.log((1 - weighted_error) / weighted_error)\n",
            "<ipython-input-53-c0df55db32dc>:49: RuntimeWarning: divide by zero encountered in double_scalars\n",
            "  classifier_weight = 0.5 * np.log((1 - weighted_error) / weighted_error)\n",
            "<ipython-input-53-c0df55db32dc>:49: RuntimeWarning: divide by zero encountered in double_scalars\n",
            "  classifier_weight = 0.5 * np.log((1 - weighted_error) / weighted_error)\n",
            "<ipython-input-53-c0df55db32dc>:49: RuntimeWarning: divide by zero encountered in double_scalars\n",
            "  classifier_weight = 0.5 * np.log((1 - weighted_error) / weighted_error)\n",
            "<ipython-input-53-c0df55db32dc>:49: RuntimeWarning: divide by zero encountered in double_scalars\n",
            "  classifier_weight = 0.5 * np.log((1 - weighted_error) / weighted_error)\n",
            "<ipython-input-53-c0df55db32dc>:49: RuntimeWarning: divide by zero encountered in double_scalars\n",
            "  classifier_weight = 0.5 * np.log((1 - weighted_error) / weighted_error)\n",
            "<ipython-input-53-c0df55db32dc>:49: RuntimeWarning: divide by zero encountered in double_scalars\n",
            "  classifier_weight = 0.5 * np.log((1 - weighted_error) / weighted_error)\n",
            "<ipython-input-53-c0df55db32dc>:49: RuntimeWarning: divide by zero encountered in double_scalars\n",
            "  classifier_weight = 0.5 * np.log((1 - weighted_error) / weighted_error)\n",
            "<ipython-input-53-c0df55db32dc>:49: RuntimeWarning: divide by zero encountered in double_scalars\n",
            "  classifier_weight = 0.5 * np.log((1 - weighted_error) / weighted_error)\n",
            "<ipython-input-53-c0df55db32dc>:49: RuntimeWarning: divide by zero encountered in double_scalars\n",
            "  classifier_weight = 0.5 * np.log((1 - weighted_error) / weighted_error)\n",
            "<ipython-input-53-c0df55db32dc>:49: RuntimeWarning: divide by zero encountered in double_scalars\n",
            "  classifier_weight = 0.5 * np.log((1 - weighted_error) / weighted_error)\n",
            "<ipython-input-53-c0df55db32dc>:49: RuntimeWarning: divide by zero encountered in double_scalars\n",
            "  classifier_weight = 0.5 * np.log((1 - weighted_error) / weighted_error)\n",
            "<ipython-input-53-c0df55db32dc>:49: RuntimeWarning: divide by zero encountered in double_scalars\n",
            "  classifier_weight = 0.5 * np.log((1 - weighted_error) / weighted_error)\n",
            "<ipython-input-53-c0df55db32dc>:49: RuntimeWarning: divide by zero encountered in double_scalars\n",
            "  classifier_weight = 0.5 * np.log((1 - weighted_error) / weighted_error)\n",
            "<ipython-input-53-c0df55db32dc>:49: RuntimeWarning: divide by zero encountered in double_scalars\n",
            "  classifier_weight = 0.5 * np.log((1 - weighted_error) / weighted_error)\n",
            "<ipython-input-53-c0df55db32dc>:49: RuntimeWarning: divide by zero encountered in double_scalars\n",
            "  classifier_weight = 0.5 * np.log((1 - weighted_error) / weighted_error)\n",
            "<ipython-input-53-c0df55db32dc>:49: RuntimeWarning: divide by zero encountered in double_scalars\n",
            "  classifier_weight = 0.5 * np.log((1 - weighted_error) / weighted_error)\n",
            "<ipython-input-53-c0df55db32dc>:49: RuntimeWarning: divide by zero encountered in double_scalars\n",
            "  classifier_weight = 0.5 * np.log((1 - weighted_error) / weighted_error)\n",
            "<ipython-input-53-c0df55db32dc>:49: RuntimeWarning: divide by zero encountered in double_scalars\n",
            "  classifier_weight = 0.5 * np.log((1 - weighted_error) / weighted_error)\n",
            "<ipython-input-53-c0df55db32dc>:49: RuntimeWarning: divide by zero encountered in double_scalars\n",
            "  classifier_weight = 0.5 * np.log((1 - weighted_error) / weighted_error)\n",
            "<ipython-input-53-c0df55db32dc>:49: RuntimeWarning: divide by zero encountered in double_scalars\n",
            "  classifier_weight = 0.5 * np.log((1 - weighted_error) / weighted_error)\n",
            "<ipython-input-53-c0df55db32dc>:49: RuntimeWarning: divide by zero encountered in double_scalars\n",
            "  classifier_weight = 0.5 * np.log((1 - weighted_error) / weighted_error)\n",
            "<ipython-input-53-c0df55db32dc>:49: RuntimeWarning: divide by zero encountered in double_scalars\n",
            "  classifier_weight = 0.5 * np.log((1 - weighted_error) / weighted_error)\n",
            "<ipython-input-53-c0df55db32dc>:49: RuntimeWarning: divide by zero encountered in double_scalars\n",
            "  classifier_weight = 0.5 * np.log((1 - weighted_error) / weighted_error)\n",
            "<ipython-input-53-c0df55db32dc>:49: RuntimeWarning: divide by zero encountered in double_scalars\n",
            "  classifier_weight = 0.5 * np.log((1 - weighted_error) / weighted_error)\n",
            "<ipython-input-53-c0df55db32dc>:49: RuntimeWarning: divide by zero encountered in double_scalars\n",
            "  classifier_weight = 0.5 * np.log((1 - weighted_error) / weighted_error)\n",
            "<ipython-input-53-c0df55db32dc>:49: RuntimeWarning: divide by zero encountered in double_scalars\n",
            "  classifier_weight = 0.5 * np.log((1 - weighted_error) / weighted_error)\n",
            "<ipython-input-53-c0df55db32dc>:49: RuntimeWarning: divide by zero encountered in double_scalars\n",
            "  classifier_weight = 0.5 * np.log((1 - weighted_error) / weighted_error)\n",
            "<ipython-input-53-c0df55db32dc>:49: RuntimeWarning: divide by zero encountered in double_scalars\n",
            "  classifier_weight = 0.5 * np.log((1 - weighted_error) / weighted_error)\n",
            "<ipython-input-53-c0df55db32dc>:49: RuntimeWarning: divide by zero encountered in double_scalars\n",
            "  classifier_weight = 0.5 * np.log((1 - weighted_error) / weighted_error)\n",
            "<ipython-input-53-c0df55db32dc>:49: RuntimeWarning: divide by zero encountered in double_scalars\n",
            "  classifier_weight = 0.5 * np.log((1 - weighted_error) / weighted_error)\n",
            "<ipython-input-53-c0df55db32dc>:49: RuntimeWarning: divide by zero encountered in double_scalars\n",
            "  classifier_weight = 0.5 * np.log((1 - weighted_error) / weighted_error)\n",
            "<ipython-input-53-c0df55db32dc>:49: RuntimeWarning: divide by zero encountered in double_scalars\n",
            "  classifier_weight = 0.5 * np.log((1 - weighted_error) / weighted_error)\n",
            "<ipython-input-53-c0df55db32dc>:49: RuntimeWarning: divide by zero encountered in double_scalars\n",
            "  classifier_weight = 0.5 * np.log((1 - weighted_error) / weighted_error)\n",
            "<ipython-input-53-c0df55db32dc>:49: RuntimeWarning: divide by zero encountered in double_scalars\n",
            "  classifier_weight = 0.5 * np.log((1 - weighted_error) / weighted_error)\n",
            "<ipython-input-53-c0df55db32dc>:49: RuntimeWarning: divide by zero encountered in double_scalars\n",
            "  classifier_weight = 0.5 * np.log((1 - weighted_error) / weighted_error)\n",
            "<ipython-input-53-c0df55db32dc>:49: RuntimeWarning: divide by zero encountered in double_scalars\n",
            "  classifier_weight = 0.5 * np.log((1 - weighted_error) / weighted_error)\n",
            "<ipython-input-53-c0df55db32dc>:49: RuntimeWarning: divide by zero encountered in double_scalars\n",
            "  classifier_weight = 0.5 * np.log((1 - weighted_error) / weighted_error)\n",
            "<ipython-input-53-c0df55db32dc>:49: RuntimeWarning: divide by zero encountered in double_scalars\n",
            "  classifier_weight = 0.5 * np.log((1 - weighted_error) / weighted_error)\n",
            "<ipython-input-53-c0df55db32dc>:49: RuntimeWarning: divide by zero encountered in double_scalars\n",
            "  classifier_weight = 0.5 * np.log((1 - weighted_error) / weighted_error)\n",
            "<ipython-input-53-c0df55db32dc>:49: RuntimeWarning: divide by zero encountered in double_scalars\n",
            "  classifier_weight = 0.5 * np.log((1 - weighted_error) / weighted_error)\n",
            "<ipython-input-53-c0df55db32dc>:49: RuntimeWarning: divide by zero encountered in double_scalars\n",
            "  classifier_weight = 0.5 * np.log((1 - weighted_error) / weighted_error)\n",
            "<ipython-input-53-c0df55db32dc>:49: RuntimeWarning: divide by zero encountered in double_scalars\n",
            "  classifier_weight = 0.5 * np.log((1 - weighted_error) / weighted_error)\n",
            "<ipython-input-53-c0df55db32dc>:49: RuntimeWarning: divide by zero encountered in double_scalars\n",
            "  classifier_weight = 0.5 * np.log((1 - weighted_error) / weighted_error)\n",
            "<ipython-input-53-c0df55db32dc>:49: RuntimeWarning: divide by zero encountered in double_scalars\n",
            "  classifier_weight = 0.5 * np.log((1 - weighted_error) / weighted_error)\n",
            "<ipython-input-53-c0df55db32dc>:49: RuntimeWarning: divide by zero encountered in double_scalars\n",
            "  classifier_weight = 0.5 * np.log((1 - weighted_error) / weighted_error)\n",
            "<ipython-input-53-c0df55db32dc>:49: RuntimeWarning: divide by zero encountered in double_scalars\n",
            "  classifier_weight = 0.5 * np.log((1 - weighted_error) / weighted_error)\n",
            "<ipython-input-53-c0df55db32dc>:49: RuntimeWarning: divide by zero encountered in double_scalars\n",
            "  classifier_weight = 0.5 * np.log((1 - weighted_error) / weighted_error)\n",
            "<ipython-input-53-c0df55db32dc>:49: RuntimeWarning: divide by zero encountered in double_scalars\n",
            "  classifier_weight = 0.5 * np.log((1 - weighted_error) / weighted_error)\n"
          ]
        },
        {
          "output_type": "execute_result",
          "data": {
            "text/plain": [
              "<__main__.OneVsOneAdaBoost at 0x7f1de1c4e5c0>"
            ]
          },
          "metadata": {},
          "execution_count": 54
        }
      ]
    },
    {
      "cell_type": "code",
      "source": [
        "y_pred = adaboost.predict(X_test)\n",
        "\n",
        "accuracy = np.sum(y_pred == y_test) / len(y_test)"
      ],
      "metadata": {
        "id": "kXNnxYvHgdK-"
      },
      "execution_count": 55,
      "outputs": []
    },
    {
      "cell_type": "code",
      "source": [
        "accuracy"
      ],
      "metadata": {
        "colab": {
          "base_uri": "https://localhost:8080/"
        },
        "id": "tK8iXZpOgfQx",
        "outputId": "b6ecf714-c069-423a-a663-1ce2d72ba24e"
      },
      "execution_count": 56,
      "outputs": [
        {
          "output_type": "execute_result",
          "data": {
            "text/plain": [
              "0.875"
            ]
          },
          "metadata": {},
          "execution_count": 56
        }
      ]
    }
  ]
}